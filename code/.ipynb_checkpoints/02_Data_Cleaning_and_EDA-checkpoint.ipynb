{
 "cells": [
  {
   "cell_type": "markdown",
   "metadata": {},
   "source": [
    "<img src=\"http://imgur.com/1ZcRyrc.png\" style=\"float: left; margin: 20px; height: 55px\">\n",
    "\n",
    "# Project 3: Web APIs & Classification\n",
    "\n",
    "_Authors: Evonne_"
   ]
  },
  {
   "cell_type": "markdown",
   "metadata": {},
   "source": [
    "# Data Cleaning and EDA"
   ]
  },
  {
   "cell_type": "markdown",
   "metadata": {},
   "source": [
    "## Import Libraries"
   ]
  },
  {
   "cell_type": "code",
   "execution_count": 1,
   "metadata": {},
   "outputs": [
    {
     "name": "stderr",
     "output_type": "stream",
     "text": [
      "/opt/anaconda3/lib/python3.7/site-packages/statsmodels/tools/_testing.py:19: FutureWarning: pandas.util.testing is deprecated. Use the functions in the public API at pandas.testing instead.\n",
      "  import pandas.util.testing as tm\n"
     ]
    }
   ],
   "source": [
    "import pandas as pd\n",
    "from datetime import datetime\n",
    "import matplotlib.pylab as plt\n",
    "import seaborn as sns\n",
    "\n",
    "sns.set(style=\"whitegrid\")"
   ]
  },
  {
   "cell_type": "markdown",
   "metadata": {},
   "source": [
    "## Read in and display Dataset"
   ]
  },
  {
   "cell_type": "code",
   "execution_count": 2,
   "metadata": {
    "scrolled": true
   },
   "outputs": [],
   "source": [
    "df_a= pd.read_csv('./datasets/df_a.csv')\n",
    "df_b= pd.read_csv('./datasets/df_b.csv')"
   ]
  },
  {
   "cell_type": "code",
   "execution_count": 3,
   "metadata": {},
   "outputs": [
    {
     "data": {
      "text/html": [
       "<div>\n",
       "<style scoped>\n",
       "    .dataframe tbody tr th:only-of-type {\n",
       "        vertical-align: middle;\n",
       "    }\n",
       "\n",
       "    .dataframe tbody tr th {\n",
       "        vertical-align: top;\n",
       "    }\n",
       "\n",
       "    .dataframe thead th {\n",
       "        text-align: right;\n",
       "    }\n",
       "</style>\n",
       "<table border=\"1\" class=\"dataframe\">\n",
       "  <thead>\n",
       "    <tr style=\"text-align: right;\">\n",
       "      <th></th>\n",
       "      <th>id</th>\n",
       "      <th>title</th>\n",
       "      <th>comment</th>\n",
       "      <th>date_created</th>\n",
       "      <th>score</th>\n",
       "      <th>subreddit</th>\n",
       "    </tr>\n",
       "  </thead>\n",
       "  <tbody>\n",
       "    <tr>\n",
       "      <th>0</th>\n",
       "      <td>hdge6q</td>\n",
       "      <td>Hey All! I made a documentary about Joe Biden....</td>\n",
       "      <td>NaN</td>\n",
       "      <td>1.592780e+09</td>\n",
       "      <td>29</td>\n",
       "      <td>democrats</td>\n",
       "    </tr>\n",
       "    <tr>\n",
       "      <th>1</th>\n",
       "      <td>hff6bt</td>\n",
       "      <td>It’s Time for a Blue Wave to Restore America.</td>\n",
       "      <td>NaN</td>\n",
       "      <td>1.593055e+09</td>\n",
       "      <td>629</td>\n",
       "      <td>democrats</td>\n",
       "    </tr>\n",
       "    <tr>\n",
       "      <th>2</th>\n",
       "      <td>hf7pni</td>\n",
       "      <td>In Scathing Letter, More Than 80-Percent of Fa...</td>\n",
       "      <td>NaN</td>\n",
       "      <td>1.593027e+09</td>\n",
       "      <td>1336</td>\n",
       "      <td>democrats</td>\n",
       "    </tr>\n",
       "    <tr>\n",
       "      <th>3</th>\n",
       "      <td>hfgpv1</td>\n",
       "      <td>Mark Cuban endorses Biden on Hannity: He 'actu...</td>\n",
       "      <td>NaN</td>\n",
       "      <td>1.593064e+09</td>\n",
       "      <td>70</td>\n",
       "      <td>democrats</td>\n",
       "    </tr>\n",
       "    <tr>\n",
       "      <th>4</th>\n",
       "      <td>hf6wes</td>\n",
       "      <td>Judiciary Democrat calls for House to pursue i...</td>\n",
       "      <td>NaN</td>\n",
       "      <td>1.593025e+09</td>\n",
       "      <td>201</td>\n",
       "      <td>democrats</td>\n",
       "    </tr>\n",
       "  </tbody>\n",
       "</table>\n",
       "</div>"
      ],
      "text/plain": [
       "       id                                              title comment  \\\n",
       "0  hdge6q  Hey All! I made a documentary about Joe Biden....     NaN   \n",
       "1  hff6bt      It’s Time for a Blue Wave to Restore America.     NaN   \n",
       "2  hf7pni  In Scathing Letter, More Than 80-Percent of Fa...     NaN   \n",
       "3  hfgpv1  Mark Cuban endorses Biden on Hannity: He 'actu...     NaN   \n",
       "4  hf6wes  Judiciary Democrat calls for House to pursue i...     NaN   \n",
       "\n",
       "   date_created  score  subreddit  \n",
       "0  1.592780e+09     29  democrats  \n",
       "1  1.593055e+09    629  democrats  \n",
       "2  1.593027e+09   1336  democrats  \n",
       "3  1.593064e+09     70  democrats  \n",
       "4  1.593025e+09    201  democrats  "
      ]
     },
     "execution_count": 3,
     "metadata": {},
     "output_type": "execute_result"
    }
   ],
   "source": [
    "df_a.head()"
   ]
  },
  {
   "cell_type": "code",
   "execution_count": 4,
   "metadata": {
    "scrolled": false
   },
   "outputs": [
    {
     "data": {
      "text/html": [
       "<div>\n",
       "<style scoped>\n",
       "    .dataframe tbody tr th:only-of-type {\n",
       "        vertical-align: middle;\n",
       "    }\n",
       "\n",
       "    .dataframe tbody tr th {\n",
       "        vertical-align: top;\n",
       "    }\n",
       "\n",
       "    .dataframe thead th {\n",
       "        text-align: right;\n",
       "    }\n",
       "</style>\n",
       "<table border=\"1\" class=\"dataframe\">\n",
       "  <thead>\n",
       "    <tr style=\"text-align: right;\">\n",
       "      <th></th>\n",
       "      <th>id</th>\n",
       "      <th>title</th>\n",
       "      <th>comment</th>\n",
       "      <th>date_created</th>\n",
       "      <th>score</th>\n",
       "      <th>subreddit</th>\n",
       "    </tr>\n",
       "  </thead>\n",
       "  <tbody>\n",
       "    <tr>\n",
       "      <th>0</th>\n",
       "      <td>hf616r</td>\n",
       "      <td>Just putting this out there.</td>\n",
       "      <td>NaN</td>\n",
       "      <td>1.593022e+09</td>\n",
       "      <td>2381</td>\n",
       "      <td>Republican</td>\n",
       "    </tr>\n",
       "    <tr>\n",
       "      <th>1</th>\n",
       "      <td>hflqaf</td>\n",
       "      <td>New evidence shows it is time to charge Joe Bi...</td>\n",
       "      <td>NaN</td>\n",
       "      <td>1.593090e+09</td>\n",
       "      <td>15</td>\n",
       "      <td>Republican</td>\n",
       "    </tr>\n",
       "    <tr>\n",
       "      <th>2</th>\n",
       "      <td>hf68bl</td>\n",
       "      <td>Vroom vroom</td>\n",
       "      <td>NaN</td>\n",
       "      <td>1.593023e+09</td>\n",
       "      <td>223</td>\n",
       "      <td>Republican</td>\n",
       "    </tr>\n",
       "    <tr>\n",
       "      <th>3</th>\n",
       "      <td>hezlce</td>\n",
       "      <td>Pelosi says Republicans 'trying to get away wi...</td>\n",
       "      <td>NaN</td>\n",
       "      <td>1.592999e+09</td>\n",
       "      <td>659</td>\n",
       "      <td>Republican</td>\n",
       "    </tr>\n",
       "    <tr>\n",
       "      <th>4</th>\n",
       "      <td>hfkbyi</td>\n",
       "      <td>Al Gore, UN Secretary-General, others now dema...</td>\n",
       "      <td>NaN</td>\n",
       "      <td>1.593084e+09</td>\n",
       "      <td>4</td>\n",
       "      <td>Republican</td>\n",
       "    </tr>\n",
       "  </tbody>\n",
       "</table>\n",
       "</div>"
      ],
      "text/plain": [
       "       id                                              title comment  \\\n",
       "0  hf616r                       Just putting this out there.     NaN   \n",
       "1  hflqaf  New evidence shows it is time to charge Joe Bi...     NaN   \n",
       "2  hf68bl                                        Vroom vroom     NaN   \n",
       "3  hezlce  Pelosi says Republicans 'trying to get away wi...     NaN   \n",
       "4  hfkbyi  Al Gore, UN Secretary-General, others now dema...     NaN   \n",
       "\n",
       "   date_created  score   subreddit  \n",
       "0  1.593022e+09   2381  Republican  \n",
       "1  1.593090e+09     15  Republican  \n",
       "2  1.593023e+09    223  Republican  \n",
       "3  1.592999e+09    659  Republican  \n",
       "4  1.593084e+09      4  Republican  "
      ]
     },
     "execution_count": 4,
     "metadata": {},
     "output_type": "execute_result"
    }
   ],
   "source": [
    "df_b.head()"
   ]
  },
  {
   "cell_type": "markdown",
   "metadata": {},
   "source": [
    "Making sure we don't have any duplicate comment (assuming the subreddit does not have that many posts, where it will loop back to the first page)"
   ]
  },
  {
   "cell_type": "code",
   "execution_count": 5,
   "metadata": {
    "scrolled": true
   },
   "outputs": [
    {
     "name": "stdout",
     "output_type": "stream",
     "text": [
      "Original Number of posts in df_a:  990\n",
      "Original Number of post in df_b:  988\n",
      "\n",
      "Number of posts in df_a w/o duplicates:  979\n",
      "Number of posts in df_b w/o duplicates:  805\n"
     ]
    }
   ],
   "source": [
    "# Remove any Duplicate Rows\n",
    "print(\"Original Number of posts in df_a: \", len(df_a))\n",
    "print(\"Original Number of post in df_b: \", len(df_b))\n",
    "print('')\n",
    "\n",
    "df_a.drop_duplicates(subset = 'title', inplace = True)\n",
    "df_b.drop_duplicates(subset = 'title', inplace = True)\n",
    "\n",
    "print(\"Number of posts in df_a w/o duplicates: \", len(df_a))\n",
    "print(\"Number of posts in df_b w/o duplicates: \", len(df_b))"
   ]
  },
  {
   "cell_type": "markdown",
   "metadata": {},
   "source": [
    "There is a higher number of duplicates in df_b which suggests that r/Republican is less active. "
   ]
  },
  {
   "cell_type": "code",
   "execution_count": 6,
   "metadata": {},
   "outputs": [
    {
     "data": {
      "text/plain": [
       "(1784, 6)"
      ]
     },
     "execution_count": 6,
     "metadata": {},
     "output_type": "execute_result"
    }
   ],
   "source": [
    "# Concatenate into a single DataFrame\n",
    "df = pd.concat([df_a, df_b])\n",
    "df.shape"
   ]
  },
  {
   "cell_type": "code",
   "execution_count": 7,
   "metadata": {
    "scrolled": true
   },
   "outputs": [
    {
     "data": {
      "text/plain": [
       "id                 0\n",
       "title              0\n",
       "comment         1624\n",
       "date_created       0\n",
       "score              0\n",
       "subreddit          0\n",
       "dtype: int64"
      ]
     },
     "execution_count": 7,
     "metadata": {},
     "output_type": "execute_result"
    }
   ],
   "source": [
    "# Check for null in columns\n",
    "df.isnull().sum()"
   ]
  },
  {
   "cell_type": "markdown",
   "metadata": {},
   "source": [
    "Most of the reddit posts does not have any comment within the title itself. Hence we will impute those with 'None' value"
   ]
  },
  {
   "cell_type": "code",
   "execution_count": 8,
   "metadata": {
    "scrolled": true
   },
   "outputs": [
    {
     "data": {
      "text/plain": [
       "id              0\n",
       "title           0\n",
       "comment         0\n",
       "date_created    0\n",
       "score           0\n",
       "subreddit       0\n",
       "dtype: int64"
      ]
     },
     "execution_count": 8,
     "metadata": {},
     "output_type": "execute_result"
    }
   ],
   "source": [
    "# Imputate Null values \n",
    "df['comment'] = df['comment'].fillna('None')\n",
    "df.isnull().sum()"
   ]
  },
  {
   "cell_type": "code",
   "execution_count": 9,
   "metadata": {
    "scrolled": true
   },
   "outputs": [
    {
     "data": {
      "text/html": [
       "<div>\n",
       "<style scoped>\n",
       "    .dataframe tbody tr th:only-of-type {\n",
       "        vertical-align: middle;\n",
       "    }\n",
       "\n",
       "    .dataframe tbody tr th {\n",
       "        vertical-align: top;\n",
       "    }\n",
       "\n",
       "    .dataframe thead th {\n",
       "        text-align: right;\n",
       "    }\n",
       "</style>\n",
       "<table border=\"1\" class=\"dataframe\">\n",
       "  <thead>\n",
       "    <tr style=\"text-align: right;\">\n",
       "      <th></th>\n",
       "      <th>id</th>\n",
       "      <th>title</th>\n",
       "      <th>comment</th>\n",
       "      <th>date_created</th>\n",
       "      <th>score</th>\n",
       "      <th>subreddit</th>\n",
       "    </tr>\n",
       "  </thead>\n",
       "  <tbody>\n",
       "    <tr>\n",
       "      <th>0</th>\n",
       "      <td>hdge6q</td>\n",
       "      <td>Hey All! I made a documentary about Joe Biden....</td>\n",
       "      <td>None</td>\n",
       "      <td>1.592780e+09</td>\n",
       "      <td>29</td>\n",
       "      <td>1</td>\n",
       "    </tr>\n",
       "    <tr>\n",
       "      <th>1</th>\n",
       "      <td>hff6bt</td>\n",
       "      <td>It’s Time for a Blue Wave to Restore America.</td>\n",
       "      <td>None</td>\n",
       "      <td>1.593055e+09</td>\n",
       "      <td>629</td>\n",
       "      <td>1</td>\n",
       "    </tr>\n",
       "    <tr>\n",
       "      <th>2</th>\n",
       "      <td>hf7pni</td>\n",
       "      <td>In Scathing Letter, More Than 80-Percent of Fa...</td>\n",
       "      <td>None</td>\n",
       "      <td>1.593027e+09</td>\n",
       "      <td>1336</td>\n",
       "      <td>1</td>\n",
       "    </tr>\n",
       "    <tr>\n",
       "      <th>3</th>\n",
       "      <td>hfgpv1</td>\n",
       "      <td>Mark Cuban endorses Biden on Hannity: He 'actu...</td>\n",
       "      <td>None</td>\n",
       "      <td>1.593064e+09</td>\n",
       "      <td>70</td>\n",
       "      <td>1</td>\n",
       "    </tr>\n",
       "    <tr>\n",
       "      <th>4</th>\n",
       "      <td>hf6wes</td>\n",
       "      <td>Judiciary Democrat calls for House to pursue i...</td>\n",
       "      <td>None</td>\n",
       "      <td>1.593025e+09</td>\n",
       "      <td>201</td>\n",
       "      <td>1</td>\n",
       "    </tr>\n",
       "  </tbody>\n",
       "</table>\n",
       "</div>"
      ],
      "text/plain": [
       "       id                                              title comment  \\\n",
       "0  hdge6q  Hey All! I made a documentary about Joe Biden....    None   \n",
       "1  hff6bt      It’s Time for a Blue Wave to Restore America.    None   \n",
       "2  hf7pni  In Scathing Letter, More Than 80-Percent of Fa...    None   \n",
       "3  hfgpv1  Mark Cuban endorses Biden on Hannity: He 'actu...    None   \n",
       "4  hf6wes  Judiciary Democrat calls for House to pursue i...    None   \n",
       "\n",
       "   date_created  score  subreddit  \n",
       "0  1.592780e+09     29          1  \n",
       "1  1.593055e+09    629          1  \n",
       "2  1.593027e+09   1336          1  \n",
       "3  1.593064e+09     70          1  \n",
       "4  1.593025e+09    201          1  "
      ]
     },
     "execution_count": 9,
     "metadata": {},
     "output_type": "execute_result"
    }
   ],
   "source": [
    "# Convert Nominal variables\n",
    "for group in ['subreddit']:\n",
    "    df[group] = df[group].map({'democrats': 1, 'Republican': 0})\n",
    "\n",
    "df.head()"
   ]
  },
  {
   "cell_type": "code",
   "execution_count": 10,
   "metadata": {
    "scrolled": false
   },
   "outputs": [
    {
     "data": {
      "text/html": [
       "<div>\n",
       "<style scoped>\n",
       "    .dataframe tbody tr th:only-of-type {\n",
       "        vertical-align: middle;\n",
       "    }\n",
       "\n",
       "    .dataframe tbody tr th {\n",
       "        vertical-align: top;\n",
       "    }\n",
       "\n",
       "    .dataframe thead th {\n",
       "        text-align: right;\n",
       "    }\n",
       "</style>\n",
       "<table border=\"1\" class=\"dataframe\">\n",
       "  <thead>\n",
       "    <tr style=\"text-align: right;\">\n",
       "      <th></th>\n",
       "      <th>id</th>\n",
       "      <th>title</th>\n",
       "      <th>comment</th>\n",
       "      <th>date_created</th>\n",
       "      <th>score</th>\n",
       "      <th>subreddit</th>\n",
       "    </tr>\n",
       "  </thead>\n",
       "  <tbody>\n",
       "    <tr>\n",
       "      <th>0</th>\n",
       "      <td>hdge6q</td>\n",
       "      <td>Hey All! I made a documentary about Joe Biden....</td>\n",
       "      <td>None</td>\n",
       "      <td>2020-06-21 22:55:13</td>\n",
       "      <td>29</td>\n",
       "      <td>1</td>\n",
       "    </tr>\n",
       "    <tr>\n",
       "      <th>1</th>\n",
       "      <td>hff6bt</td>\n",
       "      <td>It’s Time for a Blue Wave to Restore America.</td>\n",
       "      <td>None</td>\n",
       "      <td>2020-06-25 03:24:22</td>\n",
       "      <td>629</td>\n",
       "      <td>1</td>\n",
       "    </tr>\n",
       "    <tr>\n",
       "      <th>2</th>\n",
       "      <td>hf7pni</td>\n",
       "      <td>In Scathing Letter, More Than 80-Percent of Fa...</td>\n",
       "      <td>None</td>\n",
       "      <td>2020-06-24 19:33:43</td>\n",
       "      <td>1336</td>\n",
       "      <td>1</td>\n",
       "    </tr>\n",
       "    <tr>\n",
       "      <th>3</th>\n",
       "      <td>hfgpv1</td>\n",
       "      <td>Mark Cuban endorses Biden on Hannity: He 'actu...</td>\n",
       "      <td>None</td>\n",
       "      <td>2020-06-25 05:54:06</td>\n",
       "      <td>70</td>\n",
       "      <td>1</td>\n",
       "    </tr>\n",
       "    <tr>\n",
       "      <th>4</th>\n",
       "      <td>hf6wes</td>\n",
       "      <td>Judiciary Democrat calls for House to pursue i...</td>\n",
       "      <td>None</td>\n",
       "      <td>2020-06-24 18:52:00</td>\n",
       "      <td>201</td>\n",
       "      <td>1</td>\n",
       "    </tr>\n",
       "  </tbody>\n",
       "</table>\n",
       "</div>"
      ],
      "text/plain": [
       "       id                                              title comment  \\\n",
       "0  hdge6q  Hey All! I made a documentary about Joe Biden....    None   \n",
       "1  hff6bt      It’s Time for a Blue Wave to Restore America.    None   \n",
       "2  hf7pni  In Scathing Letter, More Than 80-Percent of Fa...    None   \n",
       "3  hfgpv1  Mark Cuban endorses Biden on Hannity: He 'actu...    None   \n",
       "4  hf6wes  Judiciary Democrat calls for House to pursue i...    None   \n",
       "\n",
       "         date_created  score  subreddit  \n",
       "0 2020-06-21 22:55:13     29          1  \n",
       "1 2020-06-25 03:24:22    629          1  \n",
       "2 2020-06-24 19:33:43   1336          1  \n",
       "3 2020-06-25 05:54:06     70          1  \n",
       "4 2020-06-24 18:52:00    201          1  "
      ]
     },
     "execution_count": 10,
     "metadata": {},
     "output_type": "execute_result"
    }
   ],
   "source": [
    "# Convert Unix Time to human readable datetime\n",
    "df['date_created'] = df['date_created'].astype(int)\n",
    "df['date_created'] = (pd.to_datetime(df['date_created'], unit = 's'))\n",
    "df.head()"
   ]
  },
  {
   "cell_type": "code",
   "execution_count": 11,
   "metadata": {
    "scrolled": true
   },
   "outputs": [
    {
     "name": "stdout",
     "output_type": "stream",
     "text": [
      "<class 'pandas.core.frame.DataFrame'>\n",
      "Int64Index: 1784 entries, 0 to 812\n",
      "Data columns (total 6 columns):\n",
      " #   Column        Non-Null Count  Dtype         \n",
      "---  ------        --------------  -----         \n",
      " 0   id            1784 non-null   object        \n",
      " 1   title         1784 non-null   object        \n",
      " 2   comment       1784 non-null   object        \n",
      " 3   date_created  1784 non-null   datetime64[ns]\n",
      " 4   score         1784 non-null   int64         \n",
      " 5   subreddit     1784 non-null   int64         \n",
      "dtypes: datetime64[ns](1), int64(2), object(3)\n",
      "memory usage: 97.6+ KB\n"
     ]
    }
   ],
   "source": [
    "df.info()"
   ]
  },
  {
   "cell_type": "code",
   "execution_count": 12,
   "metadata": {
    "scrolled": false
   },
   "outputs": [
    {
     "data": {
      "text/html": [
       "<div>\n",
       "<style scoped>\n",
       "    .dataframe tbody tr th:only-of-type {\n",
       "        vertical-align: middle;\n",
       "    }\n",
       "\n",
       "    .dataframe tbody tr th {\n",
       "        vertical-align: top;\n",
       "    }\n",
       "\n",
       "    .dataframe thead tr th {\n",
       "        text-align: left;\n",
       "    }\n",
       "\n",
       "    .dataframe thead tr:last-of-type th {\n",
       "        text-align: right;\n",
       "    }\n",
       "</style>\n",
       "<table border=\"1\" class=\"dataframe\">\n",
       "  <thead>\n",
       "    <tr>\n",
       "      <th></th>\n",
       "      <th colspan=\"8\" halign=\"left\">score</th>\n",
       "    </tr>\n",
       "    <tr>\n",
       "      <th></th>\n",
       "      <th>count</th>\n",
       "      <th>mean</th>\n",
       "      <th>std</th>\n",
       "      <th>min</th>\n",
       "      <th>25%</th>\n",
       "      <th>50%</th>\n",
       "      <th>75%</th>\n",
       "      <th>max</th>\n",
       "    </tr>\n",
       "    <tr>\n",
       "      <th>subreddit</th>\n",
       "      <th></th>\n",
       "      <th></th>\n",
       "      <th></th>\n",
       "      <th></th>\n",
       "      <th></th>\n",
       "      <th></th>\n",
       "      <th></th>\n",
       "      <th></th>\n",
       "    </tr>\n",
       "  </thead>\n",
       "  <tbody>\n",
       "    <tr>\n",
       "      <th>0</th>\n",
       "      <td>805.0</td>\n",
       "      <td>98.563975</td>\n",
       "      <td>281.409976</td>\n",
       "      <td>0.0</td>\n",
       "      <td>5.0</td>\n",
       "      <td>13.0</td>\n",
       "      <td>48.0</td>\n",
       "      <td>2381.0</td>\n",
       "    </tr>\n",
       "    <tr>\n",
       "      <th>1</th>\n",
       "      <td>979.0</td>\n",
       "      <td>113.010215</td>\n",
       "      <td>333.953687</td>\n",
       "      <td>0.0</td>\n",
       "      <td>7.0</td>\n",
       "      <td>16.0</td>\n",
       "      <td>54.5</td>\n",
       "      <td>2890.0</td>\n",
       "    </tr>\n",
       "  </tbody>\n",
       "</table>\n",
       "</div>"
      ],
      "text/plain": [
       "           score                                                      \n",
       "           count        mean         std  min  25%   50%   75%     max\n",
       "subreddit                                                             \n",
       "0          805.0   98.563975  281.409976  0.0  5.0  13.0  48.0  2381.0\n",
       "1          979.0  113.010215  333.953687  0.0  7.0  16.0  54.5  2890.0"
      ]
     },
     "execution_count": 12,
     "metadata": {},
     "output_type": "execute_result"
    }
   ],
   "source": [
    "df.groupby('subreddit').describe()"
   ]
  },
  {
   "cell_type": "markdown",
   "metadata": {},
   "source": [
    "### Boxplot"
   ]
  },
  {
   "cell_type": "code",
   "execution_count": 13,
   "metadata": {},
   "outputs": [],
   "source": [
    "df['title_len']=df['title'].apply(len)"
   ]
  },
  {
   "cell_type": "code",
   "execution_count": 14,
   "metadata": {
    "scrolled": false
   },
   "outputs": [
    {
     "data": {
      "image/png": "[encoded data removed]",
      "text/plain": [
       "<Figure size 1080x432 with 1 Axes>"
      ]
     },
     "metadata": {
      "needs_background": "light"
     },
     "output_type": "display_data"
    }
   ],
   "source": [
    "fig, ax = plt.subplots(figsize=(15,6))\n",
    "ax = sns.violinplot(y= 'subreddit', \n",
    "                    x='title_len',\n",
    "                    data=df, \n",
    "                    orient='h', \n",
    "                    hue='subreddit',\n",
    "                    palette='RdBu')\n",
    "\n",
    "ax.set_title('Box Plot of Title Length',fontsize=20)\n",
    "ax.set_xlabel(\"Title Length (alphanumeric)\",fontsize=15)\n",
    "ax.set_ylabel(\"Subreddit\",fontsize=15)\n",
    "ax.tick_params(labelsize=15)"
   ]
  },
  {
   "cell_type": "code",
   "execution_count": 15,
   "metadata": {
    "scrolled": false
   },
   "outputs": [
    {
     "data": {
      "image/png": "[encoded data removed]",
      "text/plain": [
       "<Figure size 1080x432 with 1 Axes>"
      ]
     },
     "metadata": {
      "needs_background": "light"
     },
     "output_type": "display_data"
    }
   ],
   "source": [
    "#normal boxplot\n",
    "fig, ax = plt.subplots(figsize=(15,6))\n",
    "ax = sns.boxplot(y= 'subreddit', \n",
    "                    x='title_len',\n",
    "                    data=df, \n",
    "                    orient='h', \n",
    "                    hue='subreddit',\n",
    "                    palette='RdBu')\n",
    "\n",
    "ax.set_title('Box Plot of Title Length',fontsize=20)\n",
    "ax.set_xlabel(\"Title Length (alphanumeric)\",fontsize=15)\n",
    "ax.set_ylabel(\"Subreddit\",fontsize=15)\n",
    "ax.tick_params(labelsize=15)"
   ]
  },
  {
   "cell_type": "markdown",
   "metadata": {},
   "source": [
    "The distribution of the post length were both right-skewed. This violin boxplot suggest that majority of the reddit post of both subreddits were mostly on an average of 60 words. \n",
    "Title length for both subreddit are generally the same though Democrats post has silghtly wider spread. However, there seem to be a few extreme outlier for subreddit Republican"
   ]
  },
  {
   "cell_type": "markdown",
   "metadata": {},
   "source": [
    "#### Save Cleaned DataFrame as csv file"
   ]
  },
  {
   "cell_type": "code",
   "execution_count": 16,
   "metadata": {},
   "outputs": [],
   "source": [
    "df.to_csv('./datasets/df.csv', index = False)"
   ]
  },
  {
   "cell_type": "markdown",
   "metadata": {},
   "source": [
    "As title feature is in natural language, checking for outlier and/or distribution is Not Applicable.\n",
    "With this EDA, it has provided insufficient data and can barely answer the problem statement. As the following still needs to occur:\n",
    "\n",
    "- Creating bag-of-words model in order convert text of the comments into numerical values"
   ]
  }
 ],
 "metadata": {
  "kernelspec": {
   "display_name": "Python 3",
   "language": "python",
   "name": "python3"
  },
  "language_info": {
   "codemirror_mode": {
    "name": "ipython",
    "version": 3
   },
   "file_extension": ".py",
   "mimetype": "text/x-python",
   "name": "python",
   "nbconvert_exporter": "python",
   "pygments_lexer": "ipython3",
   "version": "3.7.4"
  }
 },
 "nbformat": 4,
 "nbformat_minor": 2
}
