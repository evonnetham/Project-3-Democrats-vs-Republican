{
 "cells": [
  {
   "cell_type": "markdown",
   "metadata": {},
   "source": [
    "# Project 3: Web APIs & Classification\n",
    "### Part 3: Preprocessing and Modeling\n",
    "_Authors: Evonne_"
   ]
  },
  {
   "cell_type": "markdown",
   "metadata": {},
   "source": [
    "## 1. Import Libraries"
   ]
  },
  {
   "cell_type": "code",
   "execution_count": 1,
   "metadata": {},
   "outputs": [
    {
     "name": "stderr",
     "output_type": "stream",
     "text": [
      "/opt/anaconda3/lib/python3.7/site-packages/statsmodels/tools/_testing.py:19: FutureWarning: pandas.util.testing is deprecated. Use the functions in the public API at pandas.testing instead.\n",
      "  import pandas.util.testing as tm\n"
     ]
    }
   ],
   "source": [
    "import pandas as pd\n",
    "import numpy as np\n",
    "import re\n",
    "from bs4 import BeautifulSoup\n",
    "from nltk.corpus import stopwords\n",
    "from nltk.stem import WordNetLemmatizer\n",
    "from nltk.stem.porter import PorterStemmer\n",
    "\n",
    "from sklearn.model_selection import train_test_split, cross_val_score\n",
    "from sklearn.feature_extraction.text import CountVectorizer\n",
    "from sklearn.linear_model import LogisticRegression\n",
    "from sklearn.naive_bayes import MultinomialNB\n",
    "from sklearn.neighbors import KNeighborsClassifier\n",
    "from sklearn.feature_extraction.text import TfidfVectorizer\n",
    "from sklearn.pipeline import Pipeline\n",
    "from sklearn.model_selection import GridSearchCV\n",
    "from sklearn.metrics import classification_report\n",
    "from sklearn.metrics import confusion_matrix\n",
    "\n",
    "\n",
    "import matplotlib.pyplot as plt\n",
    "import seaborn as sns \n",
    "%matplotlib inline\n",
    "\n",
    "sns.set_style('whitegrid')"
   ]
  },
  {
   "cell_type": "markdown",
   "metadata": {},
   "source": [
    "## 2. Read in Data"
   ]
  },
  {
   "cell_type": "code",
   "execution_count": 2,
   "metadata": {
    "scrolled": true
   },
   "outputs": [
    {
     "data": {
      "text/html": [
       "<div>\n",
       "<style scoped>\n",
       "    .dataframe tbody tr th:only-of-type {\n",
       "        vertical-align: middle;\n",
       "    }\n",
       "\n",
       "    .dataframe tbody tr th {\n",
       "        vertical-align: top;\n",
       "    }\n",
       "\n",
       "    .dataframe thead th {\n",
       "        text-align: right;\n",
       "    }\n",
       "</style>\n",
       "<table border=\"1\" class=\"dataframe\">\n",
       "  <thead>\n",
       "    <tr style=\"text-align: right;\">\n",
       "      <th></th>\n",
       "      <th>id</th>\n",
       "      <th>title</th>\n",
       "      <th>comment</th>\n",
       "      <th>date_created</th>\n",
       "      <th>score</th>\n",
       "      <th>subreddit</th>\n",
       "      <th>title_len</th>\n",
       "    </tr>\n",
       "  </thead>\n",
       "  <tbody>\n",
       "    <tr>\n",
       "      <th>0</th>\n",
       "      <td>hdge6q</td>\n",
       "      <td>Hey All! I made a documentary about Joe Biden....</td>\n",
       "      <td>None</td>\n",
       "      <td>2020-06-21 22:55:13</td>\n",
       "      <td>29</td>\n",
       "      <td>1</td>\n",
       "      <td>108</td>\n",
       "    </tr>\n",
       "    <tr>\n",
       "      <th>1</th>\n",
       "      <td>hff6bt</td>\n",
       "      <td>It’s Time for a Blue Wave to Restore America.</td>\n",
       "      <td>None</td>\n",
       "      <td>2020-06-25 03:24:22</td>\n",
       "      <td>629</td>\n",
       "      <td>1</td>\n",
       "      <td>45</td>\n",
       "    </tr>\n",
       "    <tr>\n",
       "      <th>2</th>\n",
       "      <td>hf7pni</td>\n",
       "      <td>In Scathing Letter, More Than 80-Percent of Fa...</td>\n",
       "      <td>None</td>\n",
       "      <td>2020-06-24 19:33:43</td>\n",
       "      <td>1336</td>\n",
       "      <td>1</td>\n",
       "      <td>114</td>\n",
       "    </tr>\n",
       "    <tr>\n",
       "      <th>3</th>\n",
       "      <td>hfgpv1</td>\n",
       "      <td>Mark Cuban endorses Biden on Hannity: He 'actu...</td>\n",
       "      <td>None</td>\n",
       "      <td>2020-06-25 05:54:06</td>\n",
       "      <td>70</td>\n",
       "      <td>1</td>\n",
       "      <td>74</td>\n",
       "    </tr>\n",
       "    <tr>\n",
       "      <th>4</th>\n",
       "      <td>hf6wes</td>\n",
       "      <td>Judiciary Democrat calls for House to pursue i...</td>\n",
       "      <td>None</td>\n",
       "      <td>2020-06-24 18:52:00</td>\n",
       "      <td>201</td>\n",
       "      <td>1</td>\n",
       "      <td>64</td>\n",
       "    </tr>\n",
       "  </tbody>\n",
       "</table>\n",
       "</div>"
      ],
      "text/plain": [
       "       id                                              title comment  \\\n",
       "0  hdge6q  Hey All! I made a documentary about Joe Biden....    None   \n",
       "1  hff6bt      It’s Time for a Blue Wave to Restore America.    None   \n",
       "2  hf7pni  In Scathing Letter, More Than 80-Percent of Fa...    None   \n",
       "3  hfgpv1  Mark Cuban endorses Biden on Hannity: He 'actu...    None   \n",
       "4  hf6wes  Judiciary Democrat calls for House to pursue i...    None   \n",
       "\n",
       "          date_created  score  subreddit  title_len  \n",
       "0  2020-06-21 22:55:13     29          1        108  \n",
       "1  2020-06-25 03:24:22    629          1         45  \n",
       "2  2020-06-24 19:33:43   1336          1        114  \n",
       "3  2020-06-25 05:54:06     70          1         74  \n",
       "4  2020-06-24 18:52:00    201          1         64  "
      ]
     },
     "execution_count": 2,
     "metadata": {},
     "output_type": "execute_result"
    }
   ],
   "source": [
    "df = pd.read_csv('./datasets/df.csv')\n",
    "df.head()"
   ]
  },
  {
   "cell_type": "code",
   "execution_count": 3,
   "metadata": {
    "scrolled": true
   },
   "outputs": [
    {
     "data": {
      "text/plain": [
       "(1784, 7)"
      ]
     },
     "execution_count": 3,
     "metadata": {},
     "output_type": "execute_result"
    }
   ],
   "source": [
    "df.shape"
   ]
  },
  {
   "cell_type": "markdown",
   "metadata": {},
   "source": [
    "## 3. Baseline accuracy"
   ]
  },
  {
   "cell_type": "code",
   "execution_count": 4,
   "metadata": {
    "scrolled": true
   },
   "outputs": [
    {
     "data": {
      "text/plain": [
       "0.5487668161434978"
      ]
     },
     "execution_count": 4,
     "metadata": {},
     "output_type": "execute_result"
    }
   ],
   "source": [
    "x = df['subreddit'].value_counts(normalize = True)\n",
    "x[1]"
   ]
  },
  {
   "cell_type": "markdown",
   "metadata": {},
   "source": [
    "The accuracy of our baseline model is 56% which seem to be well balanced. "
   ]
  },
  {
   "cell_type": "markdown",
   "metadata": {},
   "source": [
    "## 4. Pre-Processing \n",
    "\n",
    "As this problem deals with text data, html text or punctuation will be removed, lemmatizer use to help to shorten words so we can combine similar forms of the same word, removing the stop word. "
   ]
  },
  {
   "cell_type": "code",
   "execution_count": 5,
   "metadata": {},
   "outputs": [
    {
     "name": "stderr",
     "output_type": "stream",
     "text": [
      "[nltk_data] Downloading package stopwords to\n",
      "[nltk_data]     /Users/Vonnytham/nltk_data...\n",
      "[nltk_data]   Package stopwords is already up-to-date!\n"
     ]
    },
    {
     "data": {
      "text/plain": [
       "True"
      ]
     },
     "execution_count": 5,
     "metadata": {},
     "output_type": "execute_result"
    }
   ],
   "source": [
    "import nltk\n",
    "nltk.download('stopwords')"
   ]
  },
  {
   "cell_type": "code",
   "execution_count": 6,
   "metadata": {},
   "outputs": [],
   "source": [
    "lemm = WordNetLemmatizer()\n",
    "\n",
    "def text_processer(raw_text):\n",
    "    \n",
    "    # Remove HTML.\n",
    "    review_text = BeautifulSoup(raw_text).get_text()\n",
    "    \n",
    "    # Remove non-letters.\n",
    "    letters_only = re.sub(\"[^a-zA-Z]\", \" \", review_text)\n",
    "    \n",
    "    # Convert to lower case, split into individual words.\n",
    "    words = letters_only.lower().split()\n",
    "    \n",
    "    # Lemmatize words.\n",
    "    lemmed_words = [lemm.lemmatize(i) for i in words]\n",
    "    \n",
    "    # Convert the stop words to a set.\n",
    "    stops = set(stopwords.words('english'))\n",
    "    \n",
    "    # Remove stop words.\n",
    "    meaningful_words = [w for w in lemmed_words if not w in stops]\n",
    "    \n",
    "    return(\" \".join(meaningful_words))"
   ]
  },
  {
   "cell_type": "code",
   "execution_count": 7,
   "metadata": {},
   "outputs": [
    {
     "data": {
      "text/html": [
       "<div>\n",
       "<style scoped>\n",
       "    .dataframe tbody tr th:only-of-type {\n",
       "        vertical-align: middle;\n",
       "    }\n",
       "\n",
       "    .dataframe tbody tr th {\n",
       "        vertical-align: top;\n",
       "    }\n",
       "\n",
       "    .dataframe thead th {\n",
       "        text-align: right;\n",
       "    }\n",
       "</style>\n",
       "<table border=\"1\" class=\"dataframe\">\n",
       "  <thead>\n",
       "    <tr style=\"text-align: right;\">\n",
       "      <th></th>\n",
       "      <th>id</th>\n",
       "      <th>title</th>\n",
       "      <th>comment</th>\n",
       "      <th>date_created</th>\n",
       "      <th>score</th>\n",
       "      <th>subreddit</th>\n",
       "      <th>title_len</th>\n",
       "    </tr>\n",
       "  </thead>\n",
       "  <tbody>\n",
       "    <tr>\n",
       "      <th>0</th>\n",
       "      <td>hdge6q</td>\n",
       "      <td>hey made documentary joe biden hope fellow dem...</td>\n",
       "      <td>None</td>\n",
       "      <td>2020-06-21 22:55:13</td>\n",
       "      <td>29</td>\n",
       "      <td>1</td>\n",
       "      <td>108</td>\n",
       "    </tr>\n",
       "    <tr>\n",
       "      <th>1</th>\n",
       "      <td>hff6bt</td>\n",
       "      <td>time blue wave restore america</td>\n",
       "      <td>None</td>\n",
       "      <td>2020-06-25 03:24:22</td>\n",
       "      <td>629</td>\n",
       "      <td>1</td>\n",
       "      <td>45</td>\n",
       "    </tr>\n",
       "    <tr>\n",
       "      <th>2</th>\n",
       "      <td>hf7pni</td>\n",
       "      <td>scathing letter percent faculty bill barr law ...</td>\n",
       "      <td>None</td>\n",
       "      <td>2020-06-24 19:33:43</td>\n",
       "      <td>1336</td>\n",
       "      <td>1</td>\n",
       "      <td>114</td>\n",
       "    </tr>\n",
       "    <tr>\n",
       "      <th>3</th>\n",
       "      <td>hfgpv1</td>\n",
       "      <td>mark cuban endorses biden hannity actually wan...</td>\n",
       "      <td>None</td>\n",
       "      <td>2020-06-25 05:54:06</td>\n",
       "      <td>70</td>\n",
       "      <td>1</td>\n",
       "      <td>74</td>\n",
       "    </tr>\n",
       "    <tr>\n",
       "      <th>4</th>\n",
       "      <td>hf6wes</td>\n",
       "      <td>judiciary democrat call house pursue impeachme...</td>\n",
       "      <td>None</td>\n",
       "      <td>2020-06-24 18:52:00</td>\n",
       "      <td>201</td>\n",
       "      <td>1</td>\n",
       "      <td>64</td>\n",
       "    </tr>\n",
       "    <tr>\n",
       "      <th>...</th>\n",
       "      <td>...</td>\n",
       "      <td>...</td>\n",
       "      <td>...</td>\n",
       "      <td>...</td>\n",
       "      <td>...</td>\n",
       "      <td>...</td>\n",
       "      <td>...</td>\n",
       "    </tr>\n",
       "    <tr>\n",
       "      <th>1779</th>\n",
       "      <td>gzc851</td>\n",
       "      <td>new york time go go biden</td>\n",
       "      <td>None</td>\n",
       "      <td>2020-06-09 00:39:36</td>\n",
       "      <td>2</td>\n",
       "      <td>0</td>\n",
       "      <td>41</td>\n",
       "    </tr>\n",
       "    <tr>\n",
       "      <th>1780</th>\n",
       "      <td>gynk96</td>\n",
       "      <td>forbes minneapolis vote disband police department</td>\n",
       "      <td>None</td>\n",
       "      <td>2020-06-07 23:43:08</td>\n",
       "      <td>84</td>\n",
       "      <td>0</td>\n",
       "      <td>54</td>\n",
       "    </tr>\n",
       "    <tr>\n",
       "      <th>1781</th>\n",
       "      <td>gyroif</td>\n",
       "      <td>viral yet pt</td>\n",
       "      <td>None</td>\n",
       "      <td>2020-06-08 04:12:14</td>\n",
       "      <td>39</td>\n",
       "      <td>0</td>\n",
       "      <td>28</td>\n",
       "    </tr>\n",
       "    <tr>\n",
       "      <th>1782</th>\n",
       "      <td>gz60bk</td>\n",
       "      <td>pelosi delivers press conference racist garb</td>\n",
       "      <td>None</td>\n",
       "      <td>2020-06-08 19:26:46</td>\n",
       "      <td>4</td>\n",
       "      <td>0</td>\n",
       "      <td>47</td>\n",
       "    </tr>\n",
       "    <tr>\n",
       "      <th>1783</th>\n",
       "      <td>gz6nmp</td>\n",
       "      <td>america cultural civil war</td>\n",
       "      <td>None</td>\n",
       "      <td>2020-06-08 19:58:19</td>\n",
       "      <td>1</td>\n",
       "      <td>0</td>\n",
       "      <td>34</td>\n",
       "    </tr>\n",
       "  </tbody>\n",
       "</table>\n",
       "<p>1784 rows × 7 columns</p>\n",
       "</div>"
      ],
      "text/plain": [
       "          id                                              title comment  \\\n",
       "0     hdge6q  hey made documentary joe biden hope fellow dem...    None   \n",
       "1     hff6bt                     time blue wave restore america    None   \n",
       "2     hf7pni  scathing letter percent faculty bill barr law ...    None   \n",
       "3     hfgpv1  mark cuban endorses biden hannity actually wan...    None   \n",
       "4     hf6wes  judiciary democrat call house pursue impeachme...    None   \n",
       "...      ...                                                ...     ...   \n",
       "1779  gzc851                          new york time go go biden    None   \n",
       "1780  gynk96  forbes minneapolis vote disband police department    None   \n",
       "1781  gyroif                                       viral yet pt    None   \n",
       "1782  gz60bk       pelosi delivers press conference racist garb    None   \n",
       "1783  gz6nmp                         america cultural civil war    None   \n",
       "\n",
       "             date_created  score  subreddit  title_len  \n",
       "0     2020-06-21 22:55:13     29          1        108  \n",
       "1     2020-06-25 03:24:22    629          1         45  \n",
       "2     2020-06-24 19:33:43   1336          1        114  \n",
       "3     2020-06-25 05:54:06     70          1         74  \n",
       "4     2020-06-24 18:52:00    201          1         64  \n",
       "...                   ...    ...        ...        ...  \n",
       "1779  2020-06-09 00:39:36      2          0         41  \n",
       "1780  2020-06-07 23:43:08     84          0         54  \n",
       "1781  2020-06-08 04:12:14     39          0         28  \n",
       "1782  2020-06-08 19:26:46      4          0         47  \n",
       "1783  2020-06-08 19:58:19      1          0         34  \n",
       "\n",
       "[1784 rows x 7 columns]"
      ]
     },
     "execution_count": 7,
     "metadata": {},
     "output_type": "execute_result"
    }
   ],
   "source": [
    "df_clean = df\n",
    "df_clean['title'] = df_clean['title'].map(text_processer)\n",
    "df_clean"
   ]
  },
  {
   "cell_type": "code",
   "execution_count": 17,
   "metadata": {
    "scrolled": true
   },
   "outputs": [
    {
     "name": "stdout",
     "output_type": "stream",
     "text": [
      "Requirement already satisfied: wordcloud in /opt/anaconda3/lib/python3.7/site-packages (1.7.0)\n",
      "Requirement already satisfied: matplotlib in /opt/anaconda3/lib/python3.7/site-packages (from wordcloud) (3.2.1)\n",
      "Requirement already satisfied: pillow in /opt/anaconda3/lib/python3.7/site-packages (from wordcloud) (6.2.0)\n",
      "Requirement already satisfied: numpy>=1.6.1 in /opt/anaconda3/lib/python3.7/site-packages (from wordcloud) (1.18.4)\n",
      "Requirement already satisfied: python-dateutil>=2.1 in /opt/anaconda3/lib/python3.7/site-packages (from matplotlib->wordcloud) (2.8.0)\n",
      "Requirement already satisfied: cycler>=0.10 in /opt/anaconda3/lib/python3.7/site-packages (from matplotlib->wordcloud) (0.10.0)\n",
      "Requirement already satisfied: kiwisolver>=1.0.1 in /opt/anaconda3/lib/python3.7/site-packages (from matplotlib->wordcloud) (1.1.0)\n",
      "Requirement already satisfied: pyparsing!=2.0.4,!=2.1.2,!=2.1.6,>=2.0.1 in /opt/anaconda3/lib/python3.7/site-packages (from matplotlib->wordcloud) (2.4.2)\n",
      "Requirement already satisfied: six>=1.5 in /opt/anaconda3/lib/python3.7/site-packages (from python-dateutil>=2.1->matplotlib->wordcloud) (1.12.0)\n",
      "Requirement already satisfied: setuptools in /opt/anaconda3/lib/python3.7/site-packages (from kiwisolver>=1.0.1->matplotlib->wordcloud) (41.4.0)\n"
     ]
    }
   ],
   "source": [
    "!pip install wordcloud"
   ]
  },
  {
   "cell_type": "code",
   "execution_count": 18,
   "metadata": {},
   "outputs": [],
   "source": [
    "from wordcloud import WordCloud\n",
    "from PIL import Image"
   ]
  },
  {
   "cell_type": "code",
   "execution_count": 19,
   "metadata": {},
   "outputs": [],
   "source": [
    "def show_wordcloud(data, title):\n",
    "    wordcloud = WordCloud(\n",
    "       background_color='white',\n",
    "       max_words=200,\n",
    "       colormap='RdBu',\n",
    "       scale=3).generate(str(data))\n",
    "    fig = plt.figure(1, figsize=(10, 10))\n",
    "    plt.axis('off')\n",
    "    if title:\n",
    "        fig.suptitle(title, fontsize=15)\n",
    "        fig.subplots_adjust(top=2.3)\n",
    "    plt.imshow(wordcloud)\n",
    "    plt.show()"
   ]
  },
  {
   "cell_type": "code",
   "execution_count": 20,
   "metadata": {},
   "outputs": [
    {
     "data": {
      "image/png": "[encoded data removed]",
      "text/plain": [
       "<Figure size 720x720 with 1 Axes>"
      ]
     },
     "metadata": {
      "needs_background": "light"
     },
     "output_type": "display_data"
    }
   ],
   "source": [
    "show_wordcloud(df_clean[df_clean[\"subreddit\"]==1].title.values,'Wordcloud for Democrats')"
   ]
  },
  {
   "cell_type": "code",
   "execution_count": 21,
   "metadata": {},
   "outputs": [
    {
     "data": {
      "image/png": "[encoded data removed]",
      "text/plain": [
       "<Figure size 720x720 with 1 Axes>"
      ]
     },
     "metadata": {
      "needs_background": "light"
     },
     "output_type": "display_data"
    }
   ],
   "source": [
    "show_wordcloud(df_clean[df_clean[\"subreddit\"]==0].title.values,'Wordcloud for Republican')"
   ]
  },
  {
   "cell_type": "markdown",
   "metadata": {},
   "source": [
    "## 5.1. Model prep: Create `X` and `y` variables\n",
    "\n",
    "Predicting the subreddit that a comment has come from, is a classification problem. Hence, classification models will be used. \n",
    "\n",
    "Our target column will be `subreddit`: \n",
    "- 1 represents the Democrats\n",
    "- 0 represents the Republican"
   ]
  },
  {
   "cell_type": "code",
   "execution_count": 22,
   "metadata": {},
   "outputs": [],
   "source": [
    "X = df_clean[['title']]\n",
    "y = df_clean['subreddit']"
   ]
  },
  {
   "cell_type": "markdown",
   "metadata": {},
   "source": [
    "## 5.2. Model Prep: Train/Test Split"
   ]
  },
  {
   "cell_type": "code",
   "execution_count": 23,
   "metadata": {},
   "outputs": [],
   "source": [
    "# Split our data into training and testing sets.\n",
    "# stratify y as to make sure they are the same as the target given that they are not balanced.\n",
    "X_train, X_test, y_train, y_test = train_test_split(X,\n",
    "                                                    y,\n",
    "                                                    test_size=0.25,\n",
    "                                                    random_state=42,\n",
    "                                                    stratify=y)"
   ]
  },
  {
   "cell_type": "code",
   "execution_count": 24,
   "metadata": {},
   "outputs": [
    {
     "data": {
      "text/plain": [
       "767     1\n",
       "96      1\n",
       "1650    0\n",
       "1163    0\n",
       "1088    0\n",
       "       ..\n",
       "1423    0\n",
       "114     1\n",
       "910     1\n",
       "1721    0\n",
       "1102    0\n",
       "Name: subreddit, Length: 1338, dtype: int64"
      ]
     },
     "execution_count": 24,
     "metadata": {},
     "output_type": "execute_result"
    }
   ],
   "source": [
    "y_train"
   ]
  },
  {
   "cell_type": "markdown",
   "metadata": {},
   "source": [
    "## 6. Create a bag-of-words model\n",
    "In order to analyze and make prediction on Reddit comments, it is required to vectorize the text of the comments into numerical values. Two of many vectorizers will be explored.\n",
    "1. CountVectorizer: where it counts the number of times a token shows up in the document and uses this value as its weight.\n",
    "2. TF-IDF (term frequency-inverse document frequency): weight assigned to each token depends on its frequency in a document and how recurrent that term is in the entire corpora\n",
    "\n",
    "Both can:\n",
    "- Split the documents into tokens by following some sort of pattern.\n",
    "- Assign a weight to each token proportional to the frequency with which it shows up in the document and/or corpora.\n",
    "- Create a document-term matrix with each row representing a document and each column addressing a token.\n",
    "\n",
    "\n",
    "### 6.1. CountVectorizer"
   ]
  },
  {
   "cell_type": "code",
   "execution_count": 25,
   "metadata": {},
   "outputs": [],
   "source": [
    "# Instantiate our CountVectorizer.\n",
    "# eliminate commonly used words from corpus using stop_words.\n",
    "cvec = CountVectorizer(stop_words='english',\n",
    "                      max_features = 5000)"
   ]
  },
  {
   "cell_type": "code",
   "execution_count": 26,
   "metadata": {},
   "outputs": [],
   "source": [
    "# Fit our CountVectorizer on the training data and transform training data.\n",
    "X_train_cvec = pd.DataFrame(cvec.fit_transform(X_train['title']).todense(),\n",
    "                           columns = cvec.get_feature_names())"
   ]
  },
  {
   "cell_type": "code",
   "execution_count": 27,
   "metadata": {},
   "outputs": [],
   "source": [
    "# Transform our testing data with the already-fit CountVectorizer.\n",
    "X_test_cvec = pd.DataFrame(cvec.transform(X_test['title']).todense(),\n",
    "                          columns = cvec.get_feature_names())"
   ]
  },
  {
   "cell_type": "code",
   "execution_count": 28,
   "metadata": {
    "scrolled": true
   },
   "outputs": [
    {
     "data": {
      "text/plain": [
       "(1338, 3598)"
      ]
     },
     "execution_count": 28,
     "metadata": {},
     "output_type": "execute_result"
    }
   ],
   "source": [
    "X_train_cvec.shape"
   ]
  },
  {
   "cell_type": "code",
   "execution_count": 29,
   "metadata": {
    "scrolled": false
   },
   "outputs": [
    {
     "data": {
      "text/html": [
       "<div>\n",
       "<style scoped>\n",
       "    .dataframe tbody tr th:only-of-type {\n",
       "        vertical-align: middle;\n",
       "    }\n",
       "\n",
       "    .dataframe tbody tr th {\n",
       "        vertical-align: top;\n",
       "    }\n",
       "\n",
       "    .dataframe thead th {\n",
       "        text-align: right;\n",
       "    }\n",
       "</style>\n",
       "<table border=\"1\" class=\"dataframe\">\n",
       "  <thead>\n",
       "    <tr style=\"text-align: right;\">\n",
       "      <th></th>\n",
       "      <th>count</th>\n",
       "      <th>word</th>\n",
       "    </tr>\n",
       "  </thead>\n",
       "  <tbody>\n",
       "    <tr>\n",
       "      <th>0</th>\n",
       "      <td>356</td>\n",
       "      <td>trump</td>\n",
       "    </tr>\n",
       "    <tr>\n",
       "      <th>1</th>\n",
       "      <td>131</td>\n",
       "      <td>biden</td>\n",
       "    </tr>\n",
       "    <tr>\n",
       "      <th>2</th>\n",
       "      <td>109</td>\n",
       "      <td>police</td>\n",
       "    </tr>\n",
       "    <tr>\n",
       "      <th>3</th>\n",
       "      <td>88</td>\n",
       "      <td>democrat</td>\n",
       "    </tr>\n",
       "    <tr>\n",
       "      <th>4</th>\n",
       "      <td>82</td>\n",
       "      <td>say</td>\n",
       "    </tr>\n",
       "    <tr>\n",
       "      <th>5</th>\n",
       "      <td>81</td>\n",
       "      <td>black</td>\n",
       "    </tr>\n",
       "    <tr>\n",
       "      <th>6</th>\n",
       "      <td>64</td>\n",
       "      <td>new</td>\n",
       "    </tr>\n",
       "    <tr>\n",
       "      <th>7</th>\n",
       "      <td>57</td>\n",
       "      <td>protest</td>\n",
       "    </tr>\n",
       "    <tr>\n",
       "      <th>8</th>\n",
       "      <td>57</td>\n",
       "      <td>republican</td>\n",
       "    </tr>\n",
       "    <tr>\n",
       "      <th>9</th>\n",
       "      <td>55</td>\n",
       "      <td>poll</td>\n",
       "    </tr>\n",
       "    <tr>\n",
       "      <th>10</th>\n",
       "      <td>54</td>\n",
       "      <td>president</td>\n",
       "    </tr>\n",
       "    <tr>\n",
       "      <th>11</th>\n",
       "      <td>50</td>\n",
       "      <td>people</td>\n",
       "    </tr>\n",
       "    <tr>\n",
       "      <th>12</th>\n",
       "      <td>49</td>\n",
       "      <td>wa</td>\n",
       "    </tr>\n",
       "    <tr>\n",
       "      <th>13</th>\n",
       "      <td>48</td>\n",
       "      <td>ha</td>\n",
       "    </tr>\n",
       "    <tr>\n",
       "      <th>14</th>\n",
       "      <td>48</td>\n",
       "      <td>american</td>\n",
       "    </tr>\n",
       "    <tr>\n",
       "      <th>15</th>\n",
       "      <td>47</td>\n",
       "      <td>statue</td>\n",
       "    </tr>\n",
       "    <tr>\n",
       "      <th>16</th>\n",
       "      <td>45</td>\n",
       "      <td>joe</td>\n",
       "    </tr>\n",
       "    <tr>\n",
       "      <th>17</th>\n",
       "      <td>43</td>\n",
       "      <td>rally</td>\n",
       "    </tr>\n",
       "    <tr>\n",
       "      <th>18</th>\n",
       "      <td>43</td>\n",
       "      <td>white</td>\n",
       "    </tr>\n",
       "    <tr>\n",
       "      <th>19</th>\n",
       "      <td>42</td>\n",
       "      <td>matter</td>\n",
       "    </tr>\n",
       "  </tbody>\n",
       "</table>\n",
       "</div>"
      ],
      "text/plain": [
       "    count        word\n",
       "0     356       trump\n",
       "1     131       biden\n",
       "2     109      police\n",
       "3      88    democrat\n",
       "4      82         say\n",
       "5      81       black\n",
       "6      64         new\n",
       "7      57     protest\n",
       "8      57  republican\n",
       "9      55        poll\n",
       "10     54   president\n",
       "11     50      people\n",
       "12     49          wa\n",
       "13     48          ha\n",
       "14     48    american\n",
       "15     47      statue\n",
       "16     45         joe\n",
       "17     43       rally\n",
       "18     43       white\n",
       "19     42      matter"
      ]
     },
     "execution_count": 29,
     "metadata": {},
     "output_type": "execute_result"
    }
   ],
   "source": [
    "# Create a df for top occured words\n",
    "tw = X_train_cvec.sum().sort_values(ascending=False).head(20)\n",
    "tw_df = pd.DataFrame(tw, columns = ['count'])\n",
    "tw_df['word'] = tw_df.index\n",
    "tw_df.reset_index(drop=True, inplace=True)\n",
    "tw_df"
   ]
  },
  {
   "cell_type": "code",
   "execution_count": 30,
   "metadata": {
    "scrolled": false
   },
   "outputs": [
    {
     "data": {
      "image/png": "[encoded data removed]",
      "text/plain": [
       "<Figure size 1080x504 with 1 Axes>"
      ]
     },
     "metadata": {
      "needs_background": "light"
     },
     "output_type": "display_data"
    }
   ],
   "source": [
    "# Visualize top words using Barplot\n",
    "plt.figure(figsize=(15,7))\n",
    "plt.title(\"Top Occurred Words\", fontsize=25)\n",
    "\n",
    "sns.barplot(data = tw_df, x = 'count', y ='word', orient = 'h', palette='RdBu')\n",
    "\n",
    "plt.xlabel('Fequency of words occured', fontsize = 18)\n",
    "plt.ylabel('Word', fontsize = 18);"
   ]
  },
  {
   "cell_type": "markdown",
   "metadata": {},
   "source": [
    "For this project, where it is a classification problem, classification model will be you. Here, 3 models will be explored:\n",
    "\n",
    "1. Logistic Regression - predicting continous target y value between (0,1)\n",
    "2. Naive Bayes - Multinomial Classifier - Since the columns of df are all integer counts, so MultinomialNB is the best choice here\n",
    "3. KNearest-Neighbor\n",
    "\n",
    "#### 6.1.1. Fit a Default Logistic Regression using CountVectorizer"
   ]
  },
  {
   "cell_type": "code",
   "execution_count": 31,
   "metadata": {},
   "outputs": [
    {
     "name": "stderr",
     "output_type": "stream",
     "text": [
      "/opt/anaconda3/lib/python3.7/site-packages/sklearn/linear_model/logistic.py:432: FutureWarning: Default solver will be changed to 'lbfgs' in 0.22. Specify a solver to silence this warning.\n",
      "  FutureWarning)\n"
     ]
    },
    {
     "name": "stdout",
     "output_type": "stream",
     "text": [
      "Accuracy of Model with Cross-Validation: 0.695870272696667\n"
     ]
    },
    {
     "name": "stderr",
     "output_type": "stream",
     "text": [
      "/opt/anaconda3/lib/python3.7/site-packages/sklearn/linear_model/logistic.py:432: FutureWarning: Default solver will be changed to 'lbfgs' in 0.22. Specify a solver to silence this warning.\n",
      "  FutureWarning)\n",
      "/opt/anaconda3/lib/python3.7/site-packages/sklearn/linear_model/logistic.py:432: FutureWarning: Default solver will be changed to 'lbfgs' in 0.22. Specify a solver to silence this warning.\n",
      "  FutureWarning)\n",
      "/opt/anaconda3/lib/python3.7/site-packages/sklearn/linear_model/logistic.py:432: FutureWarning: Default solver will be changed to 'lbfgs' in 0.22. Specify a solver to silence this warning.\n",
      "  FutureWarning)\n",
      "/opt/anaconda3/lib/python3.7/site-packages/sklearn/linear_model/logistic.py:432: FutureWarning: Default solver will be changed to 'lbfgs' in 0.22. Specify a solver to silence this warning.\n",
      "  FutureWarning)\n"
     ]
    }
   ],
   "source": [
    "lr = LogisticRegression()\n",
    "\n",
    "# cross_val_score for Logistic Regression.\n",
    "print(\"Accuracy of Model with Cross-Validation: {}\".format(cross_val_score(lr, X_train_cvec, y_train, cv=5).mean()))"
   ]
  },
  {
   "cell_type": "code",
   "execution_count": 32,
   "metadata": {
    "scrolled": false
   },
   "outputs": [
    {
     "name": "stdout",
     "output_type": "stream",
     "text": [
      "lr score on training set with default parameters: 0.9693572496263079\n",
      "lr score on testing set with default parameters: 0.7466367713004485\n"
     ]
    },
    {
     "name": "stderr",
     "output_type": "stream",
     "text": [
      "/opt/anaconda3/lib/python3.7/site-packages/sklearn/linear_model/logistic.py:432: FutureWarning: Default solver will be changed to 'lbfgs' in 0.22. Specify a solver to silence this warning.\n",
      "  FutureWarning)\n"
     ]
    }
   ],
   "source": [
    "lr_model = lr.fit(X_train_cvec, y_train)\n",
    "\n",
    "print(\"lr score on training set with default parameters: {}\". format(lr_model.score(X_train_cvec, y_train)))\n",
    "print(\"lr score on testing set with default parameters: {}\". format(lr_model.score(X_test_cvec, y_test)))"
   ]
  },
  {
   "cell_type": "markdown",
   "metadata": {},
   "source": [
    "#### 6.1.2. Fit a Default Naive Bayes model using CountVectorizer"
   ]
  },
  {
   "cell_type": "code",
   "execution_count": 33,
   "metadata": {},
   "outputs": [
    {
     "name": "stdout",
     "output_type": "stream",
     "text": [
      "Accuracy of Model with Cross-Validation: 0.7085680619459096\n"
     ]
    }
   ],
   "source": [
    "nb = MultinomialNB()\n",
    "\n",
    "# cross_val_score for Naive Bayes.\n",
    "print(\"Accuracy of Model with Cross-Validation: {}\".format(cross_val_score(nb, X_train_cvec, y_train, cv=5).mean()))"
   ]
  },
  {
   "cell_type": "code",
   "execution_count": 34,
   "metadata": {},
   "outputs": [
    {
     "name": "stdout",
     "output_type": "stream",
     "text": [
      "NB score on training set with default parameters: 0.9155455904334828\n",
      "NB score on testing set with default parameters: 0.7354260089686099\n"
     ]
    }
   ],
   "source": [
    "nb_model = nb.fit(X_train_cvec, y_train)\n",
    "predictions = nb_model.predict(X_test_cvec)\n",
    "\n",
    "print(\"NB score on training set with default parameters: {}\". format(nb_model.score(X_train_cvec, y_train)))\n",
    "print(\"NB score on testing set with default parameters: {}\". format(nb_model.score(X_test_cvec, y_test)))"
   ]
  },
  {
   "cell_type": "markdown",
   "metadata": {},
   "source": [
    "#### 6.1.3.  Fit a Default KNearest Neighbor using CountVectorizer"
   ]
  },
  {
   "cell_type": "code",
   "execution_count": 35,
   "metadata": {},
   "outputs": [
    {
     "name": "stdout",
     "output_type": "stream",
     "text": [
      "Accuracy of Model with Cross-Validation: 0.5642688811581192\n"
     ]
    }
   ],
   "source": [
    "knn = KNeighborsClassifier()\n",
    "\n",
    "# cross_val_score for KNN.\n",
    "print(\"Accuracy of Model with Cross-Validation: {}\".format(cross_val_score(knn, X_train_cvec, y_train, cv=5).mean()))"
   ]
  },
  {
   "cell_type": "code",
   "execution_count": 36,
   "metadata": {},
   "outputs": [],
   "source": [
    "knn_model = knn.fit(X_train_cvec, y_train)\n",
    "#knn_prediction = knn_model.predict(X_test_cvec)"
   ]
  },
  {
   "cell_type": "code",
   "execution_count": 37,
   "metadata": {},
   "outputs": [
    {
     "name": "stdout",
     "output_type": "stream",
     "text": [
      "KNN score on training set with default parameters: 0.8183856502242153\n",
      "KNN score on testing set with default parameters: 0.600896860986547\n"
     ]
    }
   ],
   "source": [
    "print(\"KNN score on training set with default parameters: {}\". format(knn_model.score(X_train_cvec, y_train)))\n",
    "print(\"KNN score on testing set with default parameters: {}\". format(knn_model.score(X_test_cvec, y_test)))"
   ]
  },
  {
   "cell_type": "markdown",
   "metadata": {},
   "source": [
    "By comparing these three classification models, the cross validation score are pretty good, though not extremely high for especially for the the KNN model. \n",
    "Furthermore, amongst all the model tested, Naive bayes seem to perform the best. However, all model shows a drop in accuracy in test score, which indicates serious overfitting."
   ]
  },
  {
   "cell_type": "markdown",
   "metadata": {},
   "source": [
    "### 6.2. TF-IDF"
   ]
  },
  {
   "cell_type": "code",
   "execution_count": 38,
   "metadata": {},
   "outputs": [],
   "source": [
    "tvec = TfidfVectorizer(stop_words='english')\n",
    "\n",
    "# Fit and transform our TF-IDF on the training data.\n",
    "X_train_tvec = pd.DataFrame(tvec.fit_transform(X_train['title']).todense(),\n",
    "                           columns = tvec.get_feature_names())\n",
    "# Transform our TF-IDF on the test data.\n",
    "X_test_tvec = pd.DataFrame(tvec.transform(X_test['title']).todense(),\n",
    "                          columns = tvec.get_feature_names())"
   ]
  },
  {
   "cell_type": "markdown",
   "metadata": {},
   "source": [
    "#### 6.2.1. Fit a Default Logistic Regression using TFID"
   ]
  },
  {
   "cell_type": "code",
   "execution_count": 39,
   "metadata": {},
   "outputs": [
    {
     "name": "stdout",
     "output_type": "stream",
     "text": [
      "Accuracy of Model with Cross-Validation: 0.7033329592638312\n"
     ]
    },
    {
     "name": "stderr",
     "output_type": "stream",
     "text": [
      "/opt/anaconda3/lib/python3.7/site-packages/sklearn/linear_model/logistic.py:432: FutureWarning: Default solver will be changed to 'lbfgs' in 0.22. Specify a solver to silence this warning.\n",
      "  FutureWarning)\n",
      "/opt/anaconda3/lib/python3.7/site-packages/sklearn/linear_model/logistic.py:432: FutureWarning: Default solver will be changed to 'lbfgs' in 0.22. Specify a solver to silence this warning.\n",
      "  FutureWarning)\n",
      "/opt/anaconda3/lib/python3.7/site-packages/sklearn/linear_model/logistic.py:432: FutureWarning: Default solver will be changed to 'lbfgs' in 0.22. Specify a solver to silence this warning.\n",
      "  FutureWarning)\n",
      "/opt/anaconda3/lib/python3.7/site-packages/sklearn/linear_model/logistic.py:432: FutureWarning: Default solver will be changed to 'lbfgs' in 0.22. Specify a solver to silence this warning.\n",
      "  FutureWarning)\n",
      "/opt/anaconda3/lib/python3.7/site-packages/sklearn/linear_model/logistic.py:432: FutureWarning: Default solver will be changed to 'lbfgs' in 0.22. Specify a solver to silence this warning.\n",
      "  FutureWarning)\n"
     ]
    }
   ],
   "source": [
    "lr = LogisticRegression()\n",
    "\n",
    "# cross_val_score for Logistic Regression.\n",
    "print(\"Accuracy of Model with Cross-Validation: {}\".format(cross_val_score(lr, X_train_tvec, y_train, cv=5).mean()))"
   ]
  },
  {
   "cell_type": "code",
   "execution_count": 40,
   "metadata": {
    "scrolled": false
   },
   "outputs": [
    {
     "name": "stdout",
     "output_type": "stream",
     "text": [
      "lr score on training set with default parameters: 0.9177877428998505\n",
      "lr score on testing set with default parameters: 0.7286995515695067\n"
     ]
    },
    {
     "name": "stderr",
     "output_type": "stream",
     "text": [
      "/opt/anaconda3/lib/python3.7/site-packages/sklearn/linear_model/logistic.py:432: FutureWarning: Default solver will be changed to 'lbfgs' in 0.22. Specify a solver to silence this warning.\n",
      "  FutureWarning)\n"
     ]
    }
   ],
   "source": [
    "lr_model = lr.fit(X_train_tvec, y_train)\n",
    "\n",
    "print(\"lr score on training set with default parameters: {}\". format(lr_model.score(X_train_tvec, y_train)))\n",
    "print(\"lr score on testing set with default parameters: {}\". format(lr_model.score(X_test_tvec, y_test)))"
   ]
  },
  {
   "cell_type": "markdown",
   "metadata": {},
   "source": [
    "#### 6.2.2. Fit a Default Naive Bayes model using TFID"
   ]
  },
  {
   "cell_type": "code",
   "execution_count": 41,
   "metadata": {},
   "outputs": [
    {
     "name": "stdout",
     "output_type": "stream",
     "text": [
      "Accuracy of Model with Cross-Validation: 0.7010829312086185\n"
     ]
    }
   ],
   "source": [
    "nb = MultinomialNB()\n",
    "\n",
    "# cross_val_score for Naive Bayes.\n",
    "print(\"Accuracy of Model with Cross-Validation: {}\".format(cross_val_score(nb, X_train_tvec, y_train, cv=5).mean()))"
   ]
  },
  {
   "cell_type": "code",
   "execution_count": 42,
   "metadata": {},
   "outputs": [
    {
     "name": "stdout",
     "output_type": "stream",
     "text": [
      "NB score on training set with default parameters: 0.9185351270553064\n",
      "NB score on testing set with default parameters: 0.7242152466367713\n"
     ]
    }
   ],
   "source": [
    "nb_model = nb.fit(X_train_tvec, y_train)\n",
    "\n",
    "print(\"NB score on training set with default parameters: {}\". format(nb_model.score(X_train_tvec, y_train)))\n",
    "print(\"NB score on testing set with default parameters: {}\". format(nb_model.score(X_test_tvec, y_test)))"
   ]
  },
  {
   "cell_type": "markdown",
   "metadata": {},
   "source": [
    "#### 6.3.3. Fit a KNearest Neighbor baseline model"
   ]
  },
  {
   "cell_type": "code",
   "execution_count": 43,
   "metadata": {},
   "outputs": [
    {
     "name": "stdout",
     "output_type": "stream",
     "text": [
      "Accuracy of Model with Cross-Validation: 0.6225788351475705\n"
     ]
    }
   ],
   "source": [
    "knn = KNeighborsClassifier()\n",
    "\n",
    "# Get a cross_val_score for KNN.\n",
    "print(\"Accuracy of Model with Cross-Validation: {}\".format(cross_val_score(knn, X_train_tvec, y_train, cv=5).mean()))"
   ]
  },
  {
   "cell_type": "code",
   "execution_count": 44,
   "metadata": {},
   "outputs": [
    {
     "name": "stdout",
     "output_type": "stream",
     "text": [
      "KNN score on training set with default parameters: 0.8236173393124065\n",
      "KNN score on testing set with default parameters: 0.647982062780269\n"
     ]
    }
   ],
   "source": [
    "knn_model = knn.fit(X_train_tvec, y_train)\n",
    "\n",
    "print(\"KNN score on training set with default parameters: {}\". format(knn_model.score(X_train_tvec, y_train)))\n",
    "print(\"KNN score on testing set with default parameters: {}\". format(knn_model.score(X_test_tvec, y_test)))"
   ]
  },
  {
   "cell_type": "markdown",
   "metadata": {},
   "source": [
    "Similar to models using CountVectorizer, the models are very overfitted to the data. This can be due to the lack of data, since reddit only allow scrapping of 1000 post per subreddit. We can attempt to increase bias in our training set in order to lower variance in the test set by searching for the best hyperparameters. "
   ]
  },
  {
   "cell_type": "markdown",
   "metadata": {},
   "source": [
    "## 7. Searching for the Best Hyperparameters\n",
    "### 7.1. GridSearchCV: CountVectorizer  \n",
    "#### 7.1.1. With Logistic Regression"
   ]
  },
  {
   "cell_type": "code",
   "execution_count": 45,
   "metadata": {
    "scrolled": true
   },
   "outputs": [
    {
     "data": {
      "text/plain": [
       "dict_keys(['memory', 'steps', 'verbose', 'cvec', 'lr', 'cvec__analyzer', 'cvec__binary', 'cvec__decode_error', 'cvec__dtype', 'cvec__encoding', 'cvec__input', 'cvec__lowercase', 'cvec__max_df', 'cvec__max_features', 'cvec__min_df', 'cvec__ngram_range', 'cvec__preprocessor', 'cvec__stop_words', 'cvec__strip_accents', 'cvec__token_pattern', 'cvec__tokenizer', 'cvec__vocabulary', 'lr__C', 'lr__class_weight', 'lr__dual', 'lr__fit_intercept', 'lr__intercept_scaling', 'lr__l1_ratio', 'lr__max_iter', 'lr__multi_class', 'lr__n_jobs', 'lr__penalty', 'lr__random_state', 'lr__solver', 'lr__tol', 'lr__verbose', 'lr__warm_start'])"
      ]
     },
     "execution_count": 45,
     "metadata": {},
     "output_type": "execute_result"
    }
   ],
   "source": [
    "pipe = Pipeline([('cvec', CountVectorizer()),\n",
    "                 ('lr', LogisticRegression())])\n",
    "\n",
    "# looking at the hyperparameters within the pipeline\n",
    "pipe.get_params().keys()"
   ]
  },
  {
   "cell_type": "code",
   "execution_count": 46,
   "metadata": {},
   "outputs": [],
   "source": [
    "pipe_params = {'cvec__max_features': [1000, 1500, 2000, 2500, 3000, 3500],\n",
    "               'cvec__min_df': [2, 3],\n",
    "               'cvec__max_df': [.9, .95],\n",
    "               'cvec__stop_words': [None, 'english'],\n",
    "               'cvec__ngram_range': [(1,1), (1,2)],\n",
    "               'lr__penalty':['l2','l1'],\n",
    "               'lr__C': [1, 0.1, .01]}"
   ]
  },
  {
   "cell_type": "code",
   "execution_count": 47,
   "metadata": {},
   "outputs": [
    {
     "name": "stdout",
     "output_type": "stream",
     "text": [
      "Fitting 3 folds for each of 576 candidates, totalling 1728 fits\n"
     ]
    },
    {
     "name": "stderr",
     "output_type": "stream",
     "text": [
      "[Parallel(n_jobs=-1)]: Using backend LokyBackend with 4 concurrent workers.\n",
      "[Parallel(n_jobs=-1)]: Done  24 tasks      | elapsed:    4.8s\n",
      "[Parallel(n_jobs=-1)]: Done 156 tasks      | elapsed:    8.1s\n",
      "[Parallel(n_jobs=-1)]: Done 476 tasks      | elapsed:   15.6s\n",
      "[Parallel(n_jobs=-1)]: Done 924 tasks      | elapsed:   25.4s\n",
      "[Parallel(n_jobs=-1)]: Done 1500 tasks      | elapsed:   40.5s\n"
     ]
    },
    {
     "name": "stdout",
     "output_type": "stream",
     "text": [
      "Best combination of hyperparameters: {'cvec__max_df': 0.9, 'cvec__max_features': 1500, 'cvec__min_df': 2, 'cvec__ngram_range': (1, 2), 'cvec__stop_words': 'english', 'lr__C': 0.1, 'lr__penalty': 'l2'}\n",
      "Best mean cross-validated score achieved: 0.6973094170403588\n"
     ]
    },
    {
     "name": "stderr",
     "output_type": "stream",
     "text": [
      "[Parallel(n_jobs=-1)]: Done 1728 out of 1728 | elapsed:   47.2s finished\n",
      "/opt/anaconda3/lib/python3.7/site-packages/sklearn/linear_model/logistic.py:432: FutureWarning: Default solver will be changed to 'lbfgs' in 0.22. Specify a solver to silence this warning.\n",
      "  FutureWarning)\n"
     ]
    }
   ],
   "source": [
    "gscv_lr = GridSearchCV(pipe, param_grid=pipe_params, cv=3, verbose=3, n_jobs=-1)\n",
    "gscv_lr.fit(X_train['title'], y_train)\n",
    "print(\"Best combination of hyperparameters:\", gscv_lr.best_params_)\n",
    "print('Best mean cross-validated score achieved:', gscv_lr.best_score_)"
   ]
  },
  {
   "cell_type": "code",
   "execution_count": 48,
   "metadata": {},
   "outputs": [
    {
     "name": "stdout",
     "output_type": "stream",
     "text": [
      "Score on training set with best params: 0.8303437967115097\n",
      "Score on testing set with best params: 0.7085201793721974\n"
     ]
    }
   ],
   "source": [
    "# Scoring it on both training and test set\n",
    "print(f\"Score on training set with best params: {gscv_lr.score(X_train['title'], y_train)}\")\n",
    "print(f\"Score on testing set with best params: {gscv_lr.score(X_test['title'], y_test)}\")"
   ]
  },
  {
   "cell_type": "markdown",
   "metadata": {},
   "source": [
    "#### 7.1.2. With Naive Bayes"
   ]
  },
  {
   "cell_type": "code",
   "execution_count": 49,
   "metadata": {
    "scrolled": true
   },
   "outputs": [
    {
     "data": {
      "text/plain": [
       "dict_keys(['memory', 'steps', 'verbose', 'cvec', 'nb', 'cvec__analyzer', 'cvec__binary', 'cvec__decode_error', 'cvec__dtype', 'cvec__encoding', 'cvec__input', 'cvec__lowercase', 'cvec__max_df', 'cvec__max_features', 'cvec__min_df', 'cvec__ngram_range', 'cvec__preprocessor', 'cvec__stop_words', 'cvec__strip_accents', 'cvec__token_pattern', 'cvec__tokenizer', 'cvec__vocabulary', 'nb__alpha', 'nb__class_prior', 'nb__fit_prior'])"
      ]
     },
     "execution_count": 49,
     "metadata": {},
     "output_type": "execute_result"
    }
   ],
   "source": [
    "pipe = Pipeline([('cvec', CountVectorizer()),\n",
    "                 ('nb', MultinomialNB())])\n",
    "\n",
    "# looking at the hyperparameters within the pipeline\n",
    "pipe.get_params().keys()"
   ]
  },
  {
   "cell_type": "code",
   "execution_count": 50,
   "metadata": {},
   "outputs": [],
   "source": [
    "pipe_params = {'cvec__max_features': [1000, 1500, 2000, 2500, 3000, 3500],\n",
    "               'cvec__min_df': [2, 3],\n",
    "               'cvec__max_df': [.9, .95],\n",
    "               'cvec__stop_words': [None, 'english'],\n",
    "               'cvec__ngram_range': [(1,1), (1,2)],\n",
    "               'nb__alpha': np.linspace(0.5, 1.5, 6),\n",
    "               'nb__fit_prior': [True, False]\n",
    "              }"
   ]
  },
  {
   "cell_type": "code",
   "execution_count": 51,
   "metadata": {
    "scrolled": true
   },
   "outputs": [
    {
     "name": "stdout",
     "output_type": "stream",
     "text": [
      "Fitting 3 folds for each of 1152 candidates, totalling 3456 fits\n"
     ]
    },
    {
     "name": "stderr",
     "output_type": "stream",
     "text": [
      "[Parallel(n_jobs=-1)]: Using backend LokyBackend with 4 concurrent workers.\n",
      "[Parallel(n_jobs=-1)]: Done 104 tasks      | elapsed:    2.7s\n",
      "[Parallel(n_jobs=-1)]: Done 680 tasks      | elapsed:   15.2s\n",
      "[Parallel(n_jobs=-1)]: Done 1640 tasks      | elapsed:   35.0s\n",
      "[Parallel(n_jobs=-1)]: Done 2984 tasks      | elapsed:  1.0min\n"
     ]
    },
    {
     "name": "stdout",
     "output_type": "stream",
     "text": [
      "Best combination of hyperparameters: {'cvec__max_df': 0.9, 'cvec__max_features': 1500, 'cvec__min_df': 2, 'cvec__ngram_range': (1, 2), 'cvec__stop_words': 'english', 'nb__alpha': 0.7, 'nb__fit_prior': True}\n",
      "Best mean cross-validated score achieved: 0.7085201793721974\n"
     ]
    },
    {
     "name": "stderr",
     "output_type": "stream",
     "text": [
      "[Parallel(n_jobs=-1)]: Done 3456 out of 3456 | elapsed:  1.2min finished\n"
     ]
    }
   ],
   "source": [
    "gscv_nb = GridSearchCV(pipe, param_grid=pipe_params, cv=3, verbose=3, n_jobs=-1)\n",
    "gscv_nb.fit(X_train['title'], y_train)\n",
    "print(\"Best combination of hyperparameters:\", gscv_nb.best_params_)\n",
    "print('Best mean cross-validated score achieved:', gscv_nb.best_score_)"
   ]
  },
  {
   "cell_type": "code",
   "execution_count": 52,
   "metadata": {},
   "outputs": [
    {
     "name": "stdout",
     "output_type": "stream",
     "text": [
      "Score on training set with best params: 0.8602391629297459\n",
      "Score on testing set with best params: 0.7309417040358744\n"
     ]
    }
   ],
   "source": [
    "# Scoring it on both training and test set\n",
    "print(f\"Score on training set with best params: {gscv_nb.score(X_train['title'], y_train)}\")\n",
    "print(f\"Score on testing set with best params: {gscv_nb.score(X_test['title'], y_test)}\")"
   ]
  },
  {
   "cell_type": "markdown",
   "metadata": {},
   "source": [
    "#### 7.1.3. With KNearest-Neighbor"
   ]
  },
  {
   "cell_type": "code",
   "execution_count": 53,
   "metadata": {
    "scrolled": true
   },
   "outputs": [
    {
     "data": {
      "text/plain": [
       "dict_keys(['memory', 'steps', 'verbose', 'cvec', 'knn', 'cvec__analyzer', 'cvec__binary', 'cvec__decode_error', 'cvec__dtype', 'cvec__encoding', 'cvec__input', 'cvec__lowercase', 'cvec__max_df', 'cvec__max_features', 'cvec__min_df', 'cvec__ngram_range', 'cvec__preprocessor', 'cvec__stop_words', 'cvec__strip_accents', 'cvec__token_pattern', 'cvec__tokenizer', 'cvec__vocabulary', 'knn__algorithm', 'knn__leaf_size', 'knn__metric', 'knn__metric_params', 'knn__n_jobs', 'knn__n_neighbors', 'knn__p', 'knn__weights'])"
      ]
     },
     "execution_count": 53,
     "metadata": {},
     "output_type": "execute_result"
    }
   ],
   "source": [
    "pipe = Pipeline([('cvec', CountVectorizer()),\n",
    "                 ('knn', KNeighborsClassifier())])\n",
    "\n",
    "# looking at the hyperparameters within the pipeline\n",
    "pipe.get_params().keys()"
   ]
  },
  {
   "cell_type": "code",
   "execution_count": 54,
   "metadata": {},
   "outputs": [],
   "source": [
    "pipe_params = {'cvec__max_features': [1000, 1500, 2000, 2500, 3000, 3500],\n",
    "               'cvec__min_df': [2, 3],\n",
    "               'cvec__max_df': [.9, .95],\n",
    "               'cvec__stop_words': [None, 'english'],\n",
    "               'cvec__ngram_range': [(1,1), (1,2)],\n",
    "               'knn__n_neighbors': [1,3,5,7,9],\n",
    "               'knn__weights': ['uniform','distance'], \n",
    "               'knn__metric': ['euclidean','manhattan']\n",
    "              }"
   ]
  },
  {
   "cell_type": "code",
   "execution_count": 55,
   "metadata": {},
   "outputs": [
    {
     "name": "stderr",
     "output_type": "stream",
     "text": [
      "[Parallel(n_jobs=-1)]: Using backend LokyBackend with 4 concurrent workers.\n"
     ]
    },
    {
     "name": "stdout",
     "output_type": "stream",
     "text": [
      "Fitting 3 folds for each of 1920 candidates, totalling 5760 fits\n"
     ]
    },
    {
     "name": "stderr",
     "output_type": "stream",
     "text": [
      "[Parallel(n_jobs=-1)]: Done  56 tasks      | elapsed:    2.2s\n",
      "[Parallel(n_jobs=-1)]: Done 440 tasks      | elapsed:   17.8s\n",
      "[Parallel(n_jobs=-1)]: Done 884 tasks      | elapsed:   37.4s\n",
      "[Parallel(n_jobs=-1)]: Done 1332 tasks      | elapsed:   56.6s\n",
      "[Parallel(n_jobs=-1)]: Done 1908 tasks      | elapsed:  1.4min\n",
      "[Parallel(n_jobs=-1)]: Done 2612 tasks      | elapsed:  2.0min\n",
      "[Parallel(n_jobs=-1)]: Done 3444 tasks      | elapsed:  2.7min\n",
      "[Parallel(n_jobs=-1)]: Done 4404 tasks      | elapsed:  3.5min\n",
      "[Parallel(n_jobs=-1)]: Done 5492 tasks      | elapsed:  4.4min\n"
     ]
    },
    {
     "name": "stdout",
     "output_type": "stream",
     "text": [
      "Best combination of hyperparameters: {'cvec__max_df': 0.9, 'cvec__max_features': 1000, 'cvec__min_df': 3, 'cvec__ngram_range': (1, 2), 'cvec__stop_words': None, 'knn__metric': 'euclidean', 'knn__n_neighbors': 9, 'knn__weights': 'uniform'}\n",
      "Best mean cross-validated score achieved: 0.6121076233183856\n"
     ]
    },
    {
     "name": "stderr",
     "output_type": "stream",
     "text": [
      "[Parallel(n_jobs=-1)]: Done 5760 out of 5760 | elapsed:  4.6min finished\n"
     ]
    }
   ],
   "source": [
    "gscv_knn = GridSearchCV(pipe, param_grid=pipe_params, cv=3, verbose=3, n_jobs=-1)\n",
    "gscv_knn.fit(X_train['title'], y_train)\n",
    "print(\"Best combination of hyperparameters:\", gscv_knn.best_params_)\n",
    "print('Best mean cross-validated score achieved:', gscv_knn.best_score_)"
   ]
  },
  {
   "cell_type": "code",
   "execution_count": 56,
   "metadata": {},
   "outputs": [
    {
     "name": "stdout",
     "output_type": "stream",
     "text": [
      "Score on training set with best params: 0.6853512705530643\n",
      "Score on testing set with best params: 0.6210762331838565\n"
     ]
    }
   ],
   "source": [
    "# Scoring it on both training and test set\n",
    "print(f\"Score on training set with best params: {gscv_knn.score(X_train['title'], y_train)}\")\n",
    "print(f\"Score on testing set with best params: {gscv_knn.score(X_test['title'], y_test)}\") "
   ]
  },
  {
   "cell_type": "markdown",
   "metadata": {},
   "source": [
    "Logistic Regression and Naive Bayes did comparably well. KNN is seriously overfitting here."
   ]
  },
  {
   "cell_type": "markdown",
   "metadata": {},
   "source": [
    "### 7.2. GridSearchCV: TF-IDF \n",
    "#### 7.2.1. With Logistic Regression"
   ]
  },
  {
   "cell_type": "code",
   "execution_count": 57,
   "metadata": {
    "scrolled": true
   },
   "outputs": [
    {
     "name": "stdout",
     "output_type": "stream",
     "text": [
      "Fitting 3 folds for each of 288 candidates, totalling 864 fits\n"
     ]
    },
    {
     "name": "stderr",
     "output_type": "stream",
     "text": [
      "[Parallel(n_jobs=-1)]: Using backend LokyBackend with 4 concurrent workers.\n",
      "[Parallel(n_jobs=-1)]: Done 104 tasks      | elapsed:    2.3s\n",
      "[Parallel(n_jobs=-1)]: Done 680 tasks      | elapsed:   13.4s\n"
     ]
    },
    {
     "name": "stdout",
     "output_type": "stream",
     "text": [
      "Best combination of hyperparameters: {'lr__C': 1, 'tvec__max_df': 0.9, 'tvec__max_features': 1500, 'tvec__min_df': 2, 'tvec__ngram_range': (1, 2), 'tvec__stop_words': 'english'}\n",
      "Best mean cross-validated score achieved: 0.6943198804185351\n"
     ]
    },
    {
     "name": "stderr",
     "output_type": "stream",
     "text": [
      "[Parallel(n_jobs=-1)]: Done 864 out of 864 | elapsed:   17.7s finished\n",
      "/opt/anaconda3/lib/python3.7/site-packages/sklearn/linear_model/logistic.py:432: FutureWarning: Default solver will be changed to 'lbfgs' in 0.22. Specify a solver to silence this warning.\n",
      "  FutureWarning)\n"
     ]
    }
   ],
   "source": [
    "pipe = Pipeline([('tvec', TfidfVectorizer()),\n",
    "                 ('lr', LogisticRegression())])\n",
    "\n",
    "pipe_params = {'tvec__max_features': [1000, 1500, 2000, 2500, 3000, 3500],\n",
    "               'tvec__min_df': [2, 3],\n",
    "               'tvec__max_df': [.9, .95],\n",
    "               'tvec__stop_words': [None, 'english'],\n",
    "               'tvec__ngram_range': [(1,1), (1,2)],\n",
    "               'lr__C': [1, 0.1, .01]}\n",
    "\n",
    "gstv_lr = GridSearchCV(pipe, param_grid=pipe_params, cv=3, verbose=3, n_jobs=-1)\n",
    "gstv_lr.fit(X_train['title'], y_train)\n",
    "print(\"Best combination of hyperparameters:\", gstv_lr.best_params_)\n",
    "print('Best mean cross-validated score achieved:', gstv_lr.best_score_)"
   ]
  },
  {
   "cell_type": "code",
   "execution_count": 58,
   "metadata": {},
   "outputs": [
    {
     "name": "stdout",
     "output_type": "stream",
     "text": [
      "Score on training set with best params: 0.8774289985052317\n",
      "Score on testing set with best params: 0.726457399103139\n"
     ]
    }
   ],
   "source": [
    "# Scoring it on both training and test set\n",
    "print(f\"Score on training set with best params: {gstv_lr.score(X_train['title'], y_train)}\")\n",
    "print(f\"Score on testing set with best params: {gstv_lr.score(X_test['title'], y_test)}\") "
   ]
  },
  {
   "cell_type": "markdown",
   "metadata": {},
   "source": [
    "#### 7.2.2. With Naive Bayes"
   ]
  },
  {
   "cell_type": "code",
   "execution_count": 59,
   "metadata": {
    "scrolled": true
   },
   "outputs": [
    {
     "name": "stdout",
     "output_type": "stream",
     "text": [
      "Fitting 3 folds for each of 1152 candidates, totalling 3456 fits\n"
     ]
    },
    {
     "name": "stderr",
     "output_type": "stream",
     "text": [
      "[Parallel(n_jobs=-1)]: Using backend LokyBackend with 4 concurrent workers.\n",
      "[Parallel(n_jobs=-1)]: Done  72 tasks      | elapsed:    2.1s\n",
      "[Parallel(n_jobs=-1)]: Done 456 tasks      | elapsed:   13.3s\n",
      "[Parallel(n_jobs=-1)]: Done 1096 tasks      | elapsed:   27.8s\n",
      "[Parallel(n_jobs=-1)]: Done 1992 tasks      | elapsed:   46.4s\n",
      "[Parallel(n_jobs=-1)]: Done 3144 tasks      | elapsed:  1.2min\n"
     ]
    },
    {
     "name": "stdout",
     "output_type": "stream",
     "text": [
      "Best combination of hyperparameters: {'nb__alpha': 1.5, 'nb__fit_prior': True, 'tvec__max_df': 0.9, 'tvec__max_features': 1000, 'tvec__min_df': 3, 'tvec__ngram_range': (1, 1), 'tvec__stop_words': 'english'}\n",
      "Best mean cross-validated score achieved: 0.6995515695067265\n"
     ]
    },
    {
     "name": "stderr",
     "output_type": "stream",
     "text": [
      "[Parallel(n_jobs=-1)]: Done 3456 out of 3456 | elapsed:  1.3min finished\n"
     ]
    }
   ],
   "source": [
    "pipe = Pipeline([('tvec', TfidfVectorizer()),\n",
    "                 ('nb', MultinomialNB())])\n",
    "\n",
    "pipe_params = {'tvec__max_features': [1000, 1500, 2000, 2500, 3000, 3500],\n",
    "               'tvec__min_df': [2, 3],\n",
    "               'tvec__max_df': [.9, .95],\n",
    "               'tvec__stop_words': [None, 'english'],\n",
    "               'tvec__ngram_range': [(1,1), (1,2)],\n",
    "               'nb__alpha': np.linspace(0.5, 1.5, 6),\n",
    "               'nb__fit_prior': [True, False]}\n",
    "\n",
    "gstv_nb = GridSearchCV(pipe, param_grid=pipe_params, cv=3, verbose=3, n_jobs=-1)\n",
    "gstv_nb.fit(X_train['title'], y_train)\n",
    "print(\"Best combination of hyperparameters:\", gstv_nb.best_params_)\n",
    "print('Best mean cross-validated score achieved:', gstv_nb.best_score_)"
   ]
  },
  {
   "cell_type": "code",
   "execution_count": 60,
   "metadata": {},
   "outputs": [
    {
     "name": "stdout",
     "output_type": "stream",
     "text": [
      "Score on training set with best params: 0.827354260089686\n",
      "Score on testing set with best params: 0.742152466367713\n"
     ]
    }
   ],
   "source": [
    "# Scoring it on both training and test set\n",
    "print(f\"Score on training set with best params: {gstv_nb.score(X_train['title'], y_train)}\")\n",
    "print(f\"Score on testing set with best params: {gstv_nb.score(X_test['title'], y_test)}\") "
   ]
  },
  {
   "cell_type": "markdown",
   "metadata": {},
   "source": [
    "#### 7.2.3. With KNearest-Neighbor"
   ]
  },
  {
   "cell_type": "code",
   "execution_count": 61,
   "metadata": {
    "scrolled": true
   },
   "outputs": [
    {
     "name": "stderr",
     "output_type": "stream",
     "text": [
      "[Parallel(n_jobs=-1)]: Using backend LokyBackend with 4 concurrent workers.\n"
     ]
    },
    {
     "name": "stdout",
     "output_type": "stream",
     "text": [
      "Fitting 3 folds for each of 1920 candidates, totalling 5760 fits\n"
     ]
    },
    {
     "name": "stderr",
     "output_type": "stream",
     "text": [
      "[Parallel(n_jobs=-1)]: Done  24 tasks      | elapsed:    1.2s\n",
      "[Parallel(n_jobs=-1)]: Done 120 tasks      | elapsed:    4.9s\n",
      "[Parallel(n_jobs=-1)]: Done 280 tasks      | elapsed:   10.8s\n",
      "[Parallel(n_jobs=-1)]: Done 576 tasks      | elapsed:   18.5s\n",
      "[Parallel(n_jobs=-1)]: Done 1152 tasks      | elapsed:   34.7s\n",
      "[Parallel(n_jobs=-1)]: Done 1856 tasks      | elapsed:   52.5s\n",
      "[Parallel(n_jobs=-1)]: Done 2688 tasks      | elapsed:  1.2min\n",
      "[Parallel(n_jobs=-1)]: Done 3648 tasks      | elapsed:  2.1min\n",
      "[Parallel(n_jobs=-1)]: Done 4736 tasks      | elapsed:  3.2min\n"
     ]
    },
    {
     "name": "stdout",
     "output_type": "stream",
     "text": [
      "Best combination of hyperparameters: {'knn__metric': 'euclidean', 'knn__n_neighbors': 9, 'knn__weights': 'uniform', 'tvec__max_df': 0.9, 'tvec__max_features': 1500, 'tvec__min_df': 2, 'tvec__ngram_range': (1, 2), 'tvec__stop_words': None}\n",
      "Best mean cross-validated score achieved: 0.5724962630792227\n"
     ]
    },
    {
     "name": "stderr",
     "output_type": "stream",
     "text": [
      "[Parallel(n_jobs=-1)]: Done 5760 out of 5760 | elapsed:  4.2min finished\n"
     ]
    }
   ],
   "source": [
    "pipe = Pipeline([('tvec', TfidfVectorizer()),\n",
    "                 ('knn', KNeighborsClassifier())])\n",
    "\n",
    "pipe_params = {'tvec__max_features': [1000, 1500, 2000, 2500, 3000, 3500],\n",
    "               'tvec__min_df': [2, 3],\n",
    "               'tvec__max_df': [.9, .95],\n",
    "               'tvec__stop_words': [None, 'english'],\n",
    "               'tvec__ngram_range': [(1,1), (1,2)],\n",
    "               'knn__n_neighbors': [1,3,5,7,9],\n",
    "               'knn__weights': ['uniform','distance'], \n",
    "               'knn__metric': ['euclidean','manhattan']}\n",
    "\n",
    "gstv_knn = GridSearchCV(pipe, param_grid=pipe_params, cv=3, verbose=3, n_jobs=-1)\n",
    "gstv_knn.fit(X_train['title'], y_train)\n",
    "print(\"Best combination of hyperparameters:\", gstv_knn.best_params_)\n",
    "print('Best mean cross-validated score achieved:', gstv_knn.best_score_)"
   ]
  },
  {
   "cell_type": "code",
   "execution_count": 62,
   "metadata": {},
   "outputs": [
    {
     "name": "stdout",
     "output_type": "stream",
     "text": [
      "Score on training set with best params: 0.6823617339312407\n",
      "Score on testing set with best params: 0.5829596412556054\n"
     ]
    }
   ],
   "source": [
    "# Scoring it on both training and test set\n",
    "print(f\"Score on training set with best params: {gstv_knn.score(X_train['title'], y_train)}\")\n",
    "print(f\"Score on testing set with best params: {gstv_knn.score(X_test['title'], y_test)}\") "
   ]
  },
  {
   "cell_type": "code",
   "execution_count": 63,
   "metadata": {},
   "outputs": [
    {
     "data": {
      "text/html": [
       "<div>\n",
       "<style scoped>\n",
       "    .dataframe tbody tr th:only-of-type {\n",
       "        vertical-align: middle;\n",
       "    }\n",
       "\n",
       "    .dataframe tbody tr th {\n",
       "        vertical-align: top;\n",
       "    }\n",
       "\n",
       "    .dataframe thead th {\n",
       "        text-align: right;\n",
       "    }\n",
       "</style>\n",
       "<table border=\"1\" class=\"dataframe\">\n",
       "  <thead>\n",
       "    <tr style=\"text-align: right;\">\n",
       "      <th></th>\n",
       "      <th>Model Combination</th>\n",
       "      <th>Best Score</th>\n",
       "      <th>Train Accuracy</th>\n",
       "      <th>Test Accuracy</th>\n",
       "    </tr>\n",
       "  </thead>\n",
       "  <tbody>\n",
       "    <tr>\n",
       "      <th>0</th>\n",
       "      <td>Baseline Model</td>\n",
       "      <td>0.548767</td>\n",
       "      <td>NaN</td>\n",
       "      <td>NaN</td>\n",
       "    </tr>\n",
       "    <tr>\n",
       "      <th>1</th>\n",
       "      <td>CountVec_LR</td>\n",
       "      <td>0.697309</td>\n",
       "      <td>0.830344</td>\n",
       "      <td>0.708520</td>\n",
       "    </tr>\n",
       "    <tr>\n",
       "      <th>2</th>\n",
       "      <td>CountVec_NB</td>\n",
       "      <td>0.708520</td>\n",
       "      <td>0.860239</td>\n",
       "      <td>0.730942</td>\n",
       "    </tr>\n",
       "    <tr>\n",
       "      <th>3</th>\n",
       "      <td>CountVec_KNN</td>\n",
       "      <td>0.612108</td>\n",
       "      <td>0.685351</td>\n",
       "      <td>0.621076</td>\n",
       "    </tr>\n",
       "    <tr>\n",
       "      <th>4</th>\n",
       "      <td>TFID_LR</td>\n",
       "      <td>0.694320</td>\n",
       "      <td>0.877429</td>\n",
       "      <td>0.726457</td>\n",
       "    </tr>\n",
       "    <tr>\n",
       "      <th>5</th>\n",
       "      <td>TFID_NB</td>\n",
       "      <td>0.699552</td>\n",
       "      <td>0.827354</td>\n",
       "      <td>0.742152</td>\n",
       "    </tr>\n",
       "    <tr>\n",
       "      <th>6</th>\n",
       "      <td>TFID_KNN</td>\n",
       "      <td>0.572496</td>\n",
       "      <td>0.682362</td>\n",
       "      <td>0.582960</td>\n",
       "    </tr>\n",
       "  </tbody>\n",
       "</table>\n",
       "</div>"
      ],
      "text/plain": [
       "  Model Combination  Best Score  Train Accuracy  Test Accuracy\n",
       "0    Baseline Model    0.548767             NaN            NaN\n",
       "1       CountVec_LR    0.697309        0.830344       0.708520\n",
       "2       CountVec_NB    0.708520        0.860239       0.730942\n",
       "3      CountVec_KNN    0.612108        0.685351       0.621076\n",
       "4           TFID_LR    0.694320        0.877429       0.726457\n",
       "5           TFID_NB    0.699552        0.827354       0.742152\n",
       "6          TFID_KNN    0.572496        0.682362       0.582960"
      ]
     },
     "execution_count": 63,
     "metadata": {},
     "output_type": "execute_result"
    }
   ],
   "source": [
    "scoring = [{'Model Combination': 'Baseline Model', 'Best Score': x[1]},\n",
    "           {'Model Combination': 'CountVec_LR', \n",
    "            'Best Score': gscv_lr.best_score_, \n",
    "            'Train Accuracy': gscv_lr.score(X_train['title'], y_train), \n",
    "            'Test Accuracy': gscv_lr.score(X_test['title'], y_test)}, \n",
    "           {'Model Combination': 'CountVec_NB', \n",
    "            'Best Score': gscv_nb.best_score_, \n",
    "            'Train Accuracy': gscv_nb.score(X_train['title'], y_train), \n",
    "            'Test Accuracy': gscv_nb.score(X_test['title'], y_test)}, \n",
    "           {'Model Combination': 'CountVec_KNN', \n",
    "            'Best Score': gscv_knn.best_score_, \n",
    "            'Train Accuracy': gscv_knn.score(X_train['title'], y_train), \n",
    "            'Test Accuracy': gscv_knn.score(X_test['title'], y_test)},\n",
    "           {'Model Combination': 'TFID_LR', \n",
    "            'Best Score': gstv_lr.best_score_, \n",
    "            'Train Accuracy': gstv_lr.score(X_train['title'], y_train), \n",
    "            'Test Accuracy': gstv_lr.score(X_test['title'], y_test)}, \n",
    "           {'Model Combination': 'TFID_NB', \n",
    "            'Best Score': gstv_nb.best_score_, \n",
    "            'Train Accuracy': gstv_nb.score(X_train['title'], y_train), \n",
    "            'Test Accuracy': gstv_nb.score(X_test['title'], y_test)}, \n",
    "           {'Model Combination': 'TFID_KNN', \n",
    "            'Best Score': gstv_knn.best_score_, \n",
    "            'Train Accuracy': gstv_knn.score(X_train['title'], y_train), \n",
    "            'Test Accuracy': gstv_knn.score(X_test['title'], y_test)}\n",
    "           \n",
    "          ]\n",
    "scoring = pd.DataFrame(scoring)\n",
    "scoring"
   ]
  },
  {
   "cell_type": "markdown",
   "metadata": {},
   "source": [
    "As shown above, with respect to all the models that were tested, the Naive Bayes, Multinomial with CountVectorizer yields the best score of 71.8% with 83.8% on the training set and 72.8% on testing set. Furthermore, comparing with the baseline accuracy score of 58%, it has showed considerable improvement. \n",
    "\n",
    "\n",
    "The final selected model uses the following parameters: \n",
    "- uses Count Vectorization with Naive Bayes\n",
    "    - with word appearing 90% in all documents\n",
    "    - with word appearing minimally 2 documents\n",
    "    - max features: 1000\n",
    "    - includes n-grams of length 1-2\n",
    "    - include english stop words\n",
    "- uses multinomial regularization with strength  α  = 1.5\n",
    "\n",
    "Hence, we will explore further."
   ]
  },
  {
   "cell_type": "markdown",
   "metadata": {},
   "source": [
    "## 8. Model Evaluation"
   ]
  },
  {
   "cell_type": "code",
   "execution_count": 64,
   "metadata": {},
   "outputs": [],
   "source": [
    "# Assign the best estimator to a variable\n",
    "best_mod = gscv_nb.best_estimator_\n",
    "# Generate predictions on test set.\n",
    "best_mod_y_pred = best_mod.predict(X_test['title'])"
   ]
  },
  {
   "cell_type": "markdown",
   "metadata": {},
   "source": [
    "### 8.1. Confusion Matrix "
   ]
  },
  {
   "cell_type": "code",
   "execution_count": 65,
   "metadata": {
    "scrolled": true
   },
   "outputs": [
    {
     "name": "stdout",
     "output_type": "stream",
     "text": [
      "              precision    recall  f1-score   support\n",
      "\n",
      "   Democrats       0.73      0.64      0.68       201\n",
      "  Republican       0.73      0.81      0.77       245\n",
      "\n",
      "    accuracy                           0.73       446\n",
      "   macro avg       0.73      0.72      0.72       446\n",
      "weighted avg       0.73      0.73      0.73       446\n",
      "\n"
     ]
    }
   ],
   "source": [
    "print(classification_report(y_test, \n",
    "                            best_mod_y_pred, \n",
    "                            target_names = ['Democrats','Republican']))"
   ]
  },
  {
   "cell_type": "markdown",
   "metadata": {},
   "source": [
    "Looking at the performance of our classifier on the test dataset, the precision of the prediction for both subreddit are the same. However, the recall, or sensitivity, varies significantly between the two politician groups. \n",
    "\n",
    "this suggest that the model has a harder time detecting comments that comes from r/democrats (only 59%) as compared to comments that comes from r/Republican (80%). This suggest that words from Republican subreddits are more distinct and unique to that subreddit. "
   ]
  },
  {
   "cell_type": "code",
   "execution_count": 66,
   "metadata": {
    "scrolled": true
   },
   "outputs": [
    {
     "name": "stdout",
     "output_type": "stream",
     "text": [
      "True Negatives: 128\n",
      "False Positives: 73\n",
      "False Negatives: 47\n",
      "True Positives: 198\n",
      "\n",
      "Accuracy:  0.73\n",
      "Recall:  0.81\n",
      "Specificity:  0.64\n",
      "Precision:  0.73\n"
     ]
    }
   ],
   "source": [
    "tn, fp, fn, tp = confusion_matrix(y_test, best_mod_y_pred).ravel()\n",
    "print(\"True Negatives: %s\" % tn)\n",
    "print(\"False Positives: %s\" % fp)\n",
    "print(\"False Negatives: %s\" % fn)\n",
    "print(\"True Positives: %s\" % tp)\n",
    "print('')\n",
    "\n",
    "accuracy = (tp+tn)/(tp+fp+fn+tn)\n",
    "recall = tp/(tp+fn) \n",
    "specificity = tn/(tn+fp)\n",
    "precision = tp/(tp+fp)\n",
    "\n",
    "print('Accuracy: ', round(accuracy, 2))\n",
    "print('Recall: ', round(recall, 2))\n",
    "print('Specificity: ', round(specificity, 2))\n",
    "print('Precision: ', round(precision, 2))"
   ]
  },
  {
   "cell_type": "markdown",
   "metadata": {},
   "source": [
    "### 8.2. ROC AUC\n",
    "Visualize tradeoff between sensitivity and specificity and understand how well-separated the populations are."
   ]
  },
  {
   "cell_type": "code",
   "execution_count": 67,
   "metadata": {},
   "outputs": [
    {
     "data": {
      "text/html": [
       "<div>\n",
       "<style scoped>\n",
       "    .dataframe tbody tr th:only-of-type {\n",
       "        vertical-align: middle;\n",
       "    }\n",
       "\n",
       "    .dataframe tbody tr th {\n",
       "        vertical-align: top;\n",
       "    }\n",
       "\n",
       "    .dataframe thead th {\n",
       "        text-align: right;\n",
       "    }\n",
       "</style>\n",
       "<table border=\"1\" class=\"dataframe\">\n",
       "  <thead>\n",
       "    <tr style=\"text-align: right;\">\n",
       "      <th></th>\n",
       "      <th>true_values</th>\n",
       "      <th>pred_probs</th>\n",
       "    </tr>\n",
       "  </thead>\n",
       "  <tbody>\n",
       "    <tr>\n",
       "      <th>1633</th>\n",
       "      <td>0</td>\n",
       "      <td>0.125864</td>\n",
       "    </tr>\n",
       "    <tr>\n",
       "      <th>1748</th>\n",
       "      <td>0</td>\n",
       "      <td>0.005772</td>\n",
       "    </tr>\n",
       "    <tr>\n",
       "      <th>828</th>\n",
       "      <td>1</td>\n",
       "      <td>0.999928</td>\n",
       "    </tr>\n",
       "    <tr>\n",
       "      <th>1109</th>\n",
       "      <td>0</td>\n",
       "      <td>0.260361</td>\n",
       "    </tr>\n",
       "    <tr>\n",
       "      <th>1713</th>\n",
       "      <td>0</td>\n",
       "      <td>0.287948</td>\n",
       "    </tr>\n",
       "    <tr>\n",
       "      <th>...</th>\n",
       "      <td>...</td>\n",
       "      <td>...</td>\n",
       "    </tr>\n",
       "    <tr>\n",
       "      <th>1013</th>\n",
       "      <td>0</td>\n",
       "      <td>0.721745</td>\n",
       "    </tr>\n",
       "    <tr>\n",
       "      <th>714</th>\n",
       "      <td>1</td>\n",
       "      <td>0.831996</td>\n",
       "    </tr>\n",
       "    <tr>\n",
       "      <th>920</th>\n",
       "      <td>1</td>\n",
       "      <td>0.997647</td>\n",
       "    </tr>\n",
       "    <tr>\n",
       "      <th>549</th>\n",
       "      <td>1</td>\n",
       "      <td>0.996984</td>\n",
       "    </tr>\n",
       "    <tr>\n",
       "      <th>139</th>\n",
       "      <td>1</td>\n",
       "      <td>0.840038</td>\n",
       "    </tr>\n",
       "  </tbody>\n",
       "</table>\n",
       "<p>446 rows × 2 columns</p>\n",
       "</div>"
      ],
      "text/plain": [
       "      true_values  pred_probs\n",
       "1633            0    0.125864\n",
       "1748            0    0.005772\n",
       "828             1    0.999928\n",
       "1109            0    0.260361\n",
       "1713            0    0.287948\n",
       "...           ...         ...\n",
       "1013            0    0.721745\n",
       "714             1    0.831996\n",
       "920             1    0.997647\n",
       "549             1    0.996984\n",
       "139             1    0.840038\n",
       "\n",
       "[446 rows x 2 columns]"
      ]
     },
     "execution_count": 67,
     "metadata": {},
     "output_type": "execute_result"
    }
   ],
   "source": [
    "# Create dataframe contains list of true values of our test set and predicted probabilities based on best model.\n",
    "pred_proba = [i[1] for i in best_mod.predict_proba(X_test['title'])]\n",
    "pred_df = pd.DataFrame({'true_values': y_test, \n",
    "                        'pred_probs':pred_proba})\n",
    "pred_df"
   ]
  },
  {
   "cell_type": "code",
   "execution_count": 68,
   "metadata": {},
   "outputs": [
    {
     "data": {
      "text/plain": [
       "0.8069956340745252"
      ]
     },
     "execution_count": 68,
     "metadata": {},
     "output_type": "execute_result"
    }
   ],
   "source": [
    "from sklearn.metrics import roc_auc_score\n",
    "roc_auc_score(pred_df['true_values'], pred_df['pred_probs'])"
   ]
  },
  {
   "cell_type": "code",
   "execution_count": 69,
   "metadata": {},
   "outputs": [
    {
     "data": {
      "image/png": "[encoded data removed]",
      "text/plain": [
       "<Figure size 1080x720 with 1 Axes>"
      ]
     },
     "metadata": {
      "needs_background": "light"
     },
     "output_type": "display_data"
    }
   ],
   "source": [
    "plt.figure(figsize = (15,10))\n",
    "\n",
    "thresholds = np.linspace(0, 1, 200)\n",
    "\n",
    "# Sensitivity: True positive rate\n",
    "def TPR(df, true_col, pred_prob_col, threshold):\n",
    "    true_positive = df[(df[true_col] == 1) & (df[pred_prob_col] >= threshold)].shape[0]\n",
    "    false_negative = df[(df[true_col] == 1) & (df[pred_prob_col] < threshold)].shape[0]\n",
    "    return true_positive / (true_positive + false_negative)\n",
    "    \n",
    "\n",
    "# 1 - specificity: False positive rate\n",
    "def FPR(df, true_col, pred_prob_col, threshold):\n",
    "    true_negative = df[(df[true_col] == 0) & (df[pred_prob_col] <= threshold)].shape[0]\n",
    "    false_positive = df[(df[true_col] == 0) & (df[pred_prob_col] > threshold)].shape[0]\n",
    "    return 1 - (true_negative / (true_negative + false_positive))\n",
    "    \n",
    "# Calculate sensitivity & 1-specificity for each threshold between 0 and 1.\n",
    "tpr_values = [TPR(pred_df, 'true_values', 'pred_probs', prob) for prob in thresholds]\n",
    "fpr_values = [FPR(pred_df, 'true_values', 'pred_probs', prob) for prob in thresholds]\n",
    "\n",
    "\n",
    "plt.plot(fpr_values,\n",
    "         tpr_values,\n",
    "         label='ROC Curve')\n",
    "\n",
    "# Basline\n",
    "plt.plot(np.linspace(0, 1, 200),\n",
    "         np.linspace(0, 1, 200),\n",
    "         label='baseline',\n",
    "         linestyle='--')\n",
    "\n",
    "plt.title(f'ROC Curve with AUC = {round(roc_auc_score(pred_df[\"true_values\"], pred_df[\"pred_probs\"]),3)}', \n",
    "          fontsize=22)\n",
    "plt.ylabel('Sensitivity', fontsize=18)\n",
    "plt.xlabel('1 - Specificity', fontsize=18)\n",
    "\n",
    "plt.legend(fontsize=16);"
   ]
  },
  {
   "cell_type": "markdown",
   "metadata": {},
   "source": [
    "The closer the ROC AUC is to 1, the better the model. Indication of the positive and negative population are perfectly separated. \n",
    "And given that the ROC AUC is of 0.77, there is 77% chance that model will be able to distinguish between the 1s and 0s"
   ]
  },
  {
   "cell_type": "markdown",
   "metadata": {},
   "source": [
    "### 8.3. Coefficients\n",
    "As 1 is assigned Democrats and 0 is assigned to Republican, the strongest positive coefficients are words most predictive of democrats comments and vice versa"
   ]
  },
  {
   "cell_type": "code",
   "execution_count": 70,
   "metadata": {},
   "outputs": [],
   "source": [
    "coefs = pd.DataFrame(gscv_lr.best_estimator_.steps[1][1].coef_).T\n",
    "coefs.columns = ['coef']\n",
    "coefs['ngram'] = gscv_lr.best_estimator_.steps[0][1].get_feature_names()\n",
    "coefs = coefs[['ngram','coef']]\n",
    "coefs = coefs.sort_values('coef')"
   ]
  },
  {
   "cell_type": "code",
   "execution_count": 71,
   "metadata": {
    "scrolled": true
   },
   "outputs": [],
   "source": [
    "feature_df_key = pd.concat([coefs.head(10),coefs.tail(10)], ignore_index=True)"
   ]
  },
  {
   "cell_type": "code",
   "execution_count": 72,
   "metadata": {
    "scrolled": false
   },
   "outputs": [
    {
     "data": {
      "image/png": "[encoded data removed]",
      "text/plain": [
       "<Figure size 1152x576 with 1 Axes>"
      ]
     },
     "metadata": {
      "needs_background": "light"
     },
     "output_type": "display_data"
    }
   ],
   "source": [
    "fig, ax = plt.subplots(figsize=(16,8))\n",
    "sns.barplot(feature_df_key['coef'],feature_df_key['ngram'], palette=\"RdBu\")\n",
    "plt.title(\"Top 10 Words from each Subreddits\", fontsize=25) \n",
    "plt.ylabel(\"Words\", fontsize=15)\n",
    "plt.xlabel(\"Coefficients\", fontsize=15);"
   ]
  },
  {
   "cell_type": "markdown",
   "metadata": {},
   "source": [
    "### 8.4. Explore posts that are incorrectly predicted"
   ]
  },
  {
   "cell_type": "code",
   "execution_count": 73,
   "metadata": {},
   "outputs": [
    {
     "data": {
      "text/plain": [
       "(446, 5)"
      ]
     },
     "execution_count": 73,
     "metadata": {},
     "output_type": "execute_result"
    }
   ],
   "source": [
    "# Generate predictions on test set.\n",
    "pred_df = pd.DataFrame(gscv_nb.predict_proba(X_test['title']), index=X_test.index)\n",
    "pred_df['title'] = df['title']\n",
    "pred_df['true'] = df['subreddit']\n",
    "pred_df['prediction'] = best_mod_y_pred\n",
    "pred_df.shape"
   ]
  },
  {
   "cell_type": "code",
   "execution_count": 74,
   "metadata": {},
   "outputs": [
    {
     "data": {
      "text/html": [
       "<div>\n",
       "<style scoped>\n",
       "    .dataframe tbody tr th:only-of-type {\n",
       "        vertical-align: middle;\n",
       "    }\n",
       "\n",
       "    .dataframe tbody tr th {\n",
       "        vertical-align: top;\n",
       "    }\n",
       "\n",
       "    .dataframe thead th {\n",
       "        text-align: right;\n",
       "    }\n",
       "</style>\n",
       "<table border=\"1\" class=\"dataframe\">\n",
       "  <thead>\n",
       "    <tr style=\"text-align: right;\">\n",
       "      <th></th>\n",
       "      <th>0</th>\n",
       "      <th>1</th>\n",
       "      <th>title</th>\n",
       "      <th>true</th>\n",
       "      <th>prediction</th>\n",
       "    </tr>\n",
       "  </thead>\n",
       "  <tbody>\n",
       "    <tr>\n",
       "      <th>1556</th>\n",
       "      <td>0.451420</td>\n",
       "      <td>0.548580</td>\n",
       "      <td>go</td>\n",
       "      <td>0</td>\n",
       "      <td>1</td>\n",
       "    </tr>\n",
       "    <tr>\n",
       "      <th>970</th>\n",
       "      <td>0.591786</td>\n",
       "      <td>0.408214</td>\n",
       "      <td>law order</td>\n",
       "      <td>1</td>\n",
       "      <td>0</td>\n",
       "    </tr>\n",
       "    <tr>\n",
       "      <th>636</th>\n",
       "      <td>0.978435</td>\n",
       "      <td>0.021565</td>\n",
       "      <td>sponsor tucker carlson know buy</td>\n",
       "      <td>1</td>\n",
       "      <td>0</td>\n",
       "    </tr>\n",
       "    <tr>\n",
       "      <th>830</th>\n",
       "      <td>0.594284</td>\n",
       "      <td>0.405716</td>\n",
       "      <td>civil discourse</td>\n",
       "      <td>1</td>\n",
       "      <td>0</td>\n",
       "    </tr>\n",
       "    <tr>\n",
       "      <th>74</th>\n",
       "      <td>0.698975</td>\n",
       "      <td>0.301025</td>\n",
       "      <td>illustrated history government agency twisting...</td>\n",
       "      <td>1</td>\n",
       "      <td>0</td>\n",
       "    </tr>\n",
       "    <tr>\n",
       "      <th>...</th>\n",
       "      <td>...</td>\n",
       "      <td>...</td>\n",
       "      <td>...</td>\n",
       "      <td>...</td>\n",
       "      <td>...</td>\n",
       "    </tr>\n",
       "    <tr>\n",
       "      <th>469</th>\n",
       "      <td>0.827630</td>\n",
       "      <td>0.172370</td>\n",
       "      <td>doug jones delete account jeff came republican...</td>\n",
       "      <td>1</td>\n",
       "      <td>0</td>\n",
       "    </tr>\n",
       "    <tr>\n",
       "      <th>820</th>\n",
       "      <td>0.644071</td>\n",
       "      <td>0.355929</td>\n",
       "      <td>gov cuomo new fact mask important ny making hi...</td>\n",
       "      <td>1</td>\n",
       "      <td>0</td>\n",
       "    </tr>\n",
       "    <tr>\n",
       "      <th>713</th>\n",
       "      <td>0.892427</td>\n",
       "      <td>0.107573</td>\n",
       "      <td>thomas rid wa clear looking russian disinforma...</td>\n",
       "      <td>1</td>\n",
       "      <td>0</td>\n",
       "    </tr>\n",
       "    <tr>\n",
       "      <th>882</th>\n",
       "      <td>0.658080</td>\n",
       "      <td>0.341920</td>\n",
       "      <td>gov cuomo meaningful change protesting v looti...</td>\n",
       "      <td>1</td>\n",
       "      <td>0</td>\n",
       "    </tr>\n",
       "    <tr>\n",
       "      <th>1013</th>\n",
       "      <td>0.278255</td>\n",
       "      <td>0.721745</td>\n",
       "      <td>blazing saddle dvd found nascar garage</td>\n",
       "      <td>0</td>\n",
       "      <td>1</td>\n",
       "    </tr>\n",
       "  </tbody>\n",
       "</table>\n",
       "<p>120 rows × 5 columns</p>\n",
       "</div>"
      ],
      "text/plain": [
       "             0         1                                              title  \\\n",
       "1556  0.451420  0.548580                                                 go   \n",
       "970   0.591786  0.408214                                          law order   \n",
       "636   0.978435  0.021565                    sponsor tucker carlson know buy   \n",
       "830   0.594284  0.405716                                    civil discourse   \n",
       "74    0.698975  0.301025  illustrated history government agency twisting...   \n",
       "...        ...       ...                                                ...   \n",
       "469   0.827630  0.172370  doug jones delete account jeff came republican...   \n",
       "820   0.644071  0.355929  gov cuomo new fact mask important ny making hi...   \n",
       "713   0.892427  0.107573  thomas rid wa clear looking russian disinforma...   \n",
       "882   0.658080  0.341920  gov cuomo meaningful change protesting v looti...   \n",
       "1013  0.278255  0.721745             blazing saddle dvd found nascar garage   \n",
       "\n",
       "      true  prediction  \n",
       "1556     0           1  \n",
       "970      1           0  \n",
       "636      1           0  \n",
       "830      1           0  \n",
       "74       1           0  \n",
       "...    ...         ...  \n",
       "469      1           0  \n",
       "820      1           0  \n",
       "713      1           0  \n",
       "882      1           0  \n",
       "1013     0           1  \n",
       "\n",
       "[120 rows x 5 columns]"
      ]
     },
     "execution_count": 74,
     "metadata": {},
     "output_type": "execute_result"
    }
   ],
   "source": [
    "wrong_preds = pred_df[pred_df['true']!=pred_df['prediction']]\n",
    "wrong_preds"
   ]
  },
  {
   "cell_type": "code",
   "execution_count": 75,
   "metadata": {},
   "outputs": [
    {
     "data": {
      "text/html": [
       "<div>\n",
       "<style scoped>\n",
       "    .dataframe tbody tr th:only-of-type {\n",
       "        vertical-align: middle;\n",
       "    }\n",
       "\n",
       "    .dataframe tbody tr th {\n",
       "        vertical-align: top;\n",
       "    }\n",
       "\n",
       "    .dataframe thead th {\n",
       "        text-align: right;\n",
       "    }\n",
       "</style>\n",
       "<table border=\"1\" class=\"dataframe\">\n",
       "  <thead>\n",
       "    <tr style=\"text-align: right;\">\n",
       "      <th></th>\n",
       "      <th>0</th>\n",
       "      <th>1</th>\n",
       "      <th>title</th>\n",
       "      <th>true</th>\n",
       "      <th>prediction</th>\n",
       "    </tr>\n",
       "  </thead>\n",
       "  <tbody>\n",
       "    <tr>\n",
       "      <th>1556</th>\n",
       "      <td>0.451420</td>\n",
       "      <td>0.548580</td>\n",
       "      <td>go</td>\n",
       "      <td>0</td>\n",
       "      <td>1</td>\n",
       "    </tr>\n",
       "    <tr>\n",
       "      <th>1248</th>\n",
       "      <td>0.023515</td>\n",
       "      <td>0.976485</td>\n",
       "      <td>president trump fire manhattan u attorney geof...</td>\n",
       "      <td>0</td>\n",
       "      <td>1</td>\n",
       "    </tr>\n",
       "    <tr>\n",
       "      <th>983</th>\n",
       "      <td>0.436441</td>\n",
       "      <td>0.563559</td>\n",
       "      <td>al gore un secretary general others demanding ...</td>\n",
       "      <td>0</td>\n",
       "      <td>1</td>\n",
       "    </tr>\n",
       "    <tr>\n",
       "      <th>1014</th>\n",
       "      <td>0.356628</td>\n",
       "      <td>0.643372</td>\n",
       "      <td>estonia yes estonia became one wealthiest coun...</td>\n",
       "      <td>0</td>\n",
       "      <td>1</td>\n",
       "    </tr>\n",
       "    <tr>\n",
       "      <th>1084</th>\n",
       "      <td>0.000184</td>\n",
       "      <td>0.999816</td>\n",
       "      <td>trump rally give fox news largest saturday nig...</td>\n",
       "      <td>0</td>\n",
       "      <td>1</td>\n",
       "    </tr>\n",
       "    <tr>\n",
       "      <th>...</th>\n",
       "      <td>...</td>\n",
       "      <td>...</td>\n",
       "      <td>...</td>\n",
       "      <td>...</td>\n",
       "      <td>...</td>\n",
       "    </tr>\n",
       "    <tr>\n",
       "      <th>1326</th>\n",
       "      <td>0.340547</td>\n",
       "      <td>0.659453</td>\n",
       "      <td>time trump get tulsa democrat attempting incit...</td>\n",
       "      <td>0</td>\n",
       "      <td>1</td>\n",
       "    </tr>\n",
       "    <tr>\n",
       "      <th>1475</th>\n",
       "      <td>0.203187</td>\n",
       "      <td>0.796813</td>\n",
       "      <td>military intelligence complex general spy chie...</td>\n",
       "      <td>0</td>\n",
       "      <td>1</td>\n",
       "    </tr>\n",
       "    <tr>\n",
       "      <th>1468</th>\n",
       "      <td>0.004320</td>\n",
       "      <td>0.995680</td>\n",
       "      <td>doj sue john bolton federal court block public...</td>\n",
       "      <td>0</td>\n",
       "      <td>1</td>\n",
       "    </tr>\n",
       "    <tr>\n",
       "      <th>1364</th>\n",
       "      <td>0.084792</td>\n",
       "      <td>0.915208</td>\n",
       "      <td>ny born educated greg sankey warned mississipp...</td>\n",
       "      <td>0</td>\n",
       "      <td>1</td>\n",
       "    </tr>\n",
       "    <tr>\n",
       "      <th>1013</th>\n",
       "      <td>0.278255</td>\n",
       "      <td>0.721745</td>\n",
       "      <td>blazing saddle dvd found nascar garage</td>\n",
       "      <td>0</td>\n",
       "      <td>1</td>\n",
       "    </tr>\n",
       "  </tbody>\n",
       "</table>\n",
       "<p>73 rows × 5 columns</p>\n",
       "</div>"
      ],
      "text/plain": [
       "             0         1                                              title  \\\n",
       "1556  0.451420  0.548580                                                 go   \n",
       "1248  0.023515  0.976485  president trump fire manhattan u attorney geof...   \n",
       "983   0.436441  0.563559  al gore un secretary general others demanding ...   \n",
       "1014  0.356628  0.643372  estonia yes estonia became one wealthiest coun...   \n",
       "1084  0.000184  0.999816  trump rally give fox news largest saturday nig...   \n",
       "...        ...       ...                                                ...   \n",
       "1326  0.340547  0.659453  time trump get tulsa democrat attempting incit...   \n",
       "1475  0.203187  0.796813  military intelligence complex general spy chie...   \n",
       "1468  0.004320  0.995680  doj sue john bolton federal court block public...   \n",
       "1364  0.084792  0.915208  ny born educated greg sankey warned mississipp...   \n",
       "1013  0.278255  0.721745             blazing saddle dvd found nascar garage   \n",
       "\n",
       "      true  prediction  \n",
       "1556     0           1  \n",
       "1248     0           1  \n",
       "983      0           1  \n",
       "1014     0           1  \n",
       "1084     0           1  \n",
       "...    ...         ...  \n",
       "1326     0           1  \n",
       "1475     0           1  \n",
       "1468     0           1  \n",
       "1364     0           1  \n",
       "1013     0           1  \n",
       "\n",
       "[73 rows x 5 columns]"
      ]
     },
     "execution_count": 75,
     "metadata": {},
     "output_type": "execute_result"
    }
   ],
   "source": [
    "wrong_preds[wrong_preds['prediction']==1]"
   ]
  },
  {
   "cell_type": "code",
   "execution_count": 76,
   "metadata": {
    "scrolled": true
   },
   "outputs": [
    {
     "name": "stdout",
     "output_type": "stream",
     "text": [
      "go\n",
      "----------------------------------------------------------------------------------------------------\n",
      "law order\n",
      "----------------------------------------------------------------------------------------------------\n",
      "sponsor tucker carlson know buy\n",
      "----------------------------------------------------------------------------------------------------\n",
      "civil discourse\n",
      "----------------------------------------------------------------------------------------------------\n",
      "illustrated history government agency twisting truth align white house misinformation\n",
      "----------------------------------------------------------------------------------------------------\n",
      "president trump fire manhattan u attorney geoffrey berman\n",
      "----------------------------------------------------------------------------------------------------\n",
      "al gore un secretary general others demanding great reset global capitalism\n",
      "----------------------------------------------------------------------------------------------------\n",
      "estonia yes estonia became one wealthiest country eastern europe\n",
      "----------------------------------------------------------------------------------------------------\n",
      "trump jacksonville convention speech coincides kkk attack anniversary city\n",
      "----------------------------------------------------------------------------------------------------\n",
      "trump rally give fox news largest saturday night audience history\n",
      "----------------------------------------------------------------------------------------------------\n",
      "white liberal father bi racial police officer speaks black life matter\n",
      "----------------------------------------------------------------------------------------------------\n",
      "jake fromm comment elite white revealed many think disrespected lower white\n",
      "----------------------------------------------------------------------------------------------------\n",
      "wa going news today wondering monument destroyed\n",
      "----------------------------------------------------------------------------------------------------\n",
      "obamagate end prosecution\n",
      "----------------------------------------------------------------------------------------------------\n",
      "full president trump rally dream city church phoenix az intro kimberly guilfoyle jr charlie kirk switch speed pressed time\n",
      "----------------------------------------------------------------------------------------------------\n",
      "debating c space invokes vaush debate turn debate\n",
      "----------------------------------------------------------------------------------------------------\n",
      "joe biden american people stupid\n",
      "----------------------------------------------------------------------------------------------------\n",
      "thing biden remembers day\n",
      "----------------------------------------------------------------------------------------------------\n",
      "kid onlooker horrified police arrest teen jaywalking\n",
      "----------------------------------------------------------------------------------------------------\n",
      "trump announces rally return medium suddenly remember pandemic\n",
      "----------------------------------------------------------------------------------------------------\n",
      "senate democrat tanked republican police reform bill\n",
      "----------------------------------------------------------------------------------------------------\n",
      "ex anchor soledad brien say cnn executive told host right kind black person\n",
      "----------------------------------------------------------------------------------------------------\n",
      "solemn reminder day year ago armed organized group antifa terrorist descended peaceful beach community massacred local authority caused immeasurable destruction private property\n",
      "----------------------------------------------------------------------------------------------------\n",
      "john bolton greedy hack\n",
      "----------------------------------------------------------------------------------------------------\n",
      "idea considered time\n",
      "----------------------------------------------------------------------------------------------------\n",
      "republican unite behind trump face radicalized future\n",
      "----------------------------------------------------------------------------------------------------\n",
      "trump plan announce police reform executive order tuesday\n",
      "----------------------------------------------------------------------------------------------------\n",
      "trump renew effort end legal protection daca recipient\n",
      "----------------------------------------------------------------------------------------------------\n",
      "gov cuomo quoted bible verse comment current situation nyc protesting looting george floyd death etc\n",
      "----------------------------------------------------------------------------------------------------\n",
      "thousand boater rally trump north carolina parade trump\n",
      "----------------------------------------------------------------------------------------------------\n",
      "st louis city democrat put forth point plan includes defunding police closing workhouse jail\n",
      "----------------------------------------------------------------------------------------------------\n",
      "left piedmont park democratic stronghold hour line vote right chastain park located atlanta whitest conservative precinct literally line georgia top election official republican fultoncounty gaprimary\n",
      "----------------------------------------------------------------------------------------------------\n",
      "first ever blm guessing game lot harder think\n",
      "----------------------------------------------------------------------------------------------------\n",
      "draw line kayleigh mcenany asks biden canceled confederate supporting segregationist\n",
      "----------------------------------------------------------------------------------------------------\n",
      "trump v biden yearning normalcy\n",
      "----------------------------------------------------------------------------------------------------\n",
      "td wa silenced reddit ban type medium share someone\n",
      "----------------------------------------------------------------------------------------------------\n",
      "nbc news facing scrutiny reportedly influencing google target conservative website air video\n",
      "----------------------------------------------------------------------------------------------------\n",
      "gun vending machine installed arkansas school\n",
      "----------------------------------------------------------------------------------------------------\n",
      "juneteenth trump chance win november\n",
      "----------------------------------------------------------------------------------------------------\n",
      "abolish qualified immunity law protects officer judgement action using excessive deadly force allow civilian take government official court sue misconduct\n",
      "----------------------------------------------------------------------------------------------------\n",
      "sarah huckabee sander share anecdote bolton new book pretty\n",
      "----------------------------------------------------------------------------------------------------\n",
      "lazy republican senate drop ball nomination\n",
      "----------------------------------------------------------------------------------------------------\n",
      "must see typical liberal hellhole trump supporter cheer national guard march tulsa keep peace video\n",
      "----------------------------------------------------------------------------------------------------\n",
      "america facing civil unrest transcends race\n",
      "----------------------------------------------------------------------------------------------------\n",
      "battle america soul free election\n",
      "----------------------------------------------------------------------------------------------------\n",
      "good republican book read\n",
      "----------------------------------------------------------------------------------------------------\n",
      "kamala harris school john cornyn police reform\n",
      "----------------------------------------------------------------------------------------------------\n",
      "senate republican unveil police reform legislation\n",
      "----------------------------------------------------------------------------------------------------\n",
      "open letter steve huffman board director reddit inc believe standing hate supporting black life need act\n",
      "----------------------------------------------------------------------------------------------------\n",
      "covid skeptic right\n",
      "----------------------------------------------------------------------------------------------------\n",
      "aoc join hundred twitter user claiming teen tiktok k pop fan sabotaged trump tulsa rally left seat empty reserving thousand ticket intention showing\n",
      "----------------------------------------------------------------------------------------------------\n",
      "condoleezza rice trump speak language unity language empathy\n",
      "----------------------------------------------------------------------------------------------------\n",
      "think reopen psychopath\n",
      "----------------------------------------------------------------------------------------------------\n",
      "coronavirus selective social distancing rule scam\n",
      "----------------------------------------------------------------------------------------------------\n",
      "laura ingraham lay ideal republican platform election\n",
      "----------------------------------------------------------------------------------------------------\n",
      "people keep sending link donate npr say donate thing really make difference need stop silent majority letting people walk u good charity post comment\n",
      "----------------------------------------------------------------------------------------------------\n",
      "fox news caught faking image seattle capitol hill autonomous zone scare viewer\n",
      "----------------------------------------------------------------------------------------------------\n",
      "eu must unite united state uk australia canada japan south korea etc contain china uncontrollable behavior imaginary pedestal menace value cherished together long time failure bring deleterious effect human race condition\n",
      "----------------------------------------------------------------------------------------------------\n",
      "heroine time\n",
      "----------------------------------------------------------------------------------------------------\n",
      "new evidence show time charge joe biden treason\n",
      "----------------------------------------------------------------------------------------------------\n",
      "erosion trust thing public health establishment got wrong coronavirus\n",
      "----------------------------------------------------------------------------------------------------\n",
      "comic made thought would fit\n",
      "----------------------------------------------------------------------------------------------------\n",
      "white house petition require news agency non profit\n",
      "----------------------------------------------------------------------------------------------------\n",
      "unholy white evangelicals worship altar donaldtrump\n",
      "----------------------------------------------------------------------------------------------------\n",
      "pelosi sends letter joint committee library calling removal confederate statue united state capitol\n",
      "----------------------------------------------------------------------------------------------------\n",
      "nsa director say release bolton book could cause irreparable damage\n",
      "----------------------------------------------------------------------------------------------------\n",
      "national use force data available soon help fbi say first kind data collection result coming summer\n",
      "----------------------------------------------------------------------------------------------------\n",
      "gay conservative\n",
      "----------------------------------------------------------------------------------------------------\n",
      "need say\n",
      "----------------------------------------------------------------------------------------------------\n",
      "twitter censor harmful abusive trump tweet said\n",
      "----------------------------------------------------------------------------------------------------\n",
      "victory lgbt folk get fired anymore lgbt\n",
      "----------------------------------------------------------------------------------------------------\n",
      "trump campaign give face mask sanitizer rally attendee\n",
      "----------------------------------------------------------------------------------------------------\n",
      "police race hard problem hard truth\n",
      "----------------------------------------------------------------------------------------------------\n",
      "step taken inspire people vote\n",
      "----------------------------------------------------------------------------------------------------\n",
      "trump earned another independent vote listening tonight\n",
      "----------------------------------------------------------------------------------------------------\n",
      "want play nhl\n",
      "----------------------------------------------------------------------------------------------------\n",
      "forgotten president wa hero black american\n",
      "----------------------------------------------------------------------------------------------------\n",
      "gathering essential unless republican\n",
      "----------------------------------------------------------------------------------------------------\n",
      "surely get nice riled\n",
      "----------------------------------------------------------------------------------------------------\n",
      "amazon revers censorship coronavirus book rubio intervention\n",
      "----------------------------------------------------------------------------------------------------\n",
      "check video adam calhoun let know think\n",
      "----------------------------------------------------------------------------------------------------\n",
      "brett favre say colin kaepernick recognized hero like pat tillman\n",
      "----------------------------------------------------------------------------------------------------\n",
      "joe biden nd youtube campaign ad even speak two sentence without messing\n",
      "----------------------------------------------------------------------------------------------------\n",
      "republican party want america second stimulus check\n",
      "----------------------------------------------------------------------------------------------------\n",
      "republican politician\n",
      "----------------------------------------------------------------------------------------------------\n",
      "tax hike put biden economy politics campaign ha ever proposed greater tax hike recession boot\n",
      "----------------------------------------------------------------------------------------------------\n",
      "hmmm seems fair\n",
      "----------------------------------------------------------------------------------------------------\n",
      "lone black republican senator say open decertification bad police\n",
      "----------------------------------------------------------------------------------------------------\n",
      "trump supported concentration camp uighur muslim ex aide claim\n",
      "----------------------------------------------------------------------------------------------------\n",
      "conservative leader moment\n",
      "----------------------------------------------------------------------------------------------------\n",
      "war zone\n",
      "----------------------------------------------------------------------------------------------------\n",
      "sweeping police misconduct racial bias reform bill planned democrat\n",
      "----------------------------------------------------------------------------------------------------\n",
      "senate collusion theater someone wake hear something john durham\n",
      "----------------------------------------------------------------------------------------------------\n",
      "seattle mayor tell trump go back bunker criticizes handling protest\n",
      "----------------------------------------------------------------------------------------------------\n",
      "pompeo say way u treat hong kong depends china doe\n",
      "----------------------------------------------------------------------------------------------------\n",
      "congressional democrat unveil police reform package next week\n",
      "----------------------------------------------------------------------------------------------------\n",
      "please tell democrat liberal surrendering america wanting equality higher pay happier american biden\n",
      "----------------------------------------------------------------------------------------------------\n",
      "good ol donny wiggum\n",
      "----------------------------------------------------------------------------------------------------\n",
      "reddit moment bias censorship authoritarianism\n",
      "----------------------------------------------------------------------------------------------------\n",
      "honestly see election going\n",
      "----------------------------------------------------------------------------------------------------\n",
      "democrat got quit letting republican call pro life\n",
      "----------------------------------------------------------------------------------------------------\n",
      "nascar ban confederate flag race property\n",
      "----------------------------------------------------------------------------------------------------\n",
      "protest come\n",
      "----------------------------------------------------------------------------------------------------\n",
      "dni ratcliffe declassification annex show fbi tried sandbag president trump using steele dossier\n",
      "----------------------------------------------------------------------------------------------------\n",
      "used vandalism stop racism sub literally liberal cesspool ha thrown sub rule window\n",
      "----------------------------------------------------------------------------------------------------\n",
      "medium speculate trump health slowly walking ramp west point commencement\n",
      "----------------------------------------------------------------------------------------------------\n",
      "video chicago police officer lounging sleeping bobby rush office ignoring looter congressman say\n",
      "----------------------------------------------------------------------------------------------------\n",
      "time trump get tulsa democrat attempting incite riot\n",
      "----------------------------------------------------------------------------------------------------\n",
      "military intelligence complex general spy chief entering political arena slam trump forget voter chose\n",
      "----------------------------------------------------------------------------------------------------\n",
      "preparing crowed loss like look look lose wa rigged cheated u always win bleach today election hoax radical left\n",
      "----------------------------------------------------------------------------------------------------\n",
      "current cover influential czech magazine reflex headline say bow felon supposedly wanted reform\n",
      "----------------------------------------------------------------------------------------------------\n",
      "doj sue john bolton federal court block publication upcoming book\n",
      "----------------------------------------------------------------------------------------------------\n",
      "brief history lost cause toxic myth still appeal many white american\n",
      "----------------------------------------------------------------------------------------------------\n",
      "minneapolis city council pledge begin process ending police department\n",
      "----------------------------------------------------------------------------------------------------\n",
      "ny born educated greg sankey warned mississippi could lose sec championship game alter state flag\n",
      "----------------------------------------------------------------------------------------------------\n",
      "doug jones delete account jeff came republican controlled senate committee strong bi partisan vote know tough right side history come confederacy give try\n",
      "----------------------------------------------------------------------------------------------------\n",
      "gov cuomo new fact mask important ny making history\n",
      "----------------------------------------------------------------------------------------------------\n",
      "thomas rid wa clear looking russian disinformation operation literally day one history understand thought okay understand history going started right\n",
      "----------------------------------------------------------------------------------------------------\n",
      "gov cuomo meaningful change protesting v looting reopening phase\n",
      "----------------------------------------------------------------------------------------------------\n",
      "blazing saddle dvd found nascar garage\n",
      "----------------------------------------------------------------------------------------------------\n"
     ]
    }
   ],
   "source": [
    "for i in wrong_preds['title']:\n",
    "    print(i)\n",
    "    print('-'*100)"
   ]
  },
  {
   "cell_type": "markdown",
   "metadata": {},
   "source": [
    "Out of 446, 121 comments were predicted wrongly"
   ]
  }
 ],
 "metadata": {
  "kernelspec": {
   "display_name": "Python 3",
   "language": "python",
   "name": "python3"
  },
  "language_info": {
   "codemirror_mode": {
    "name": "ipython",
    "version": 3
   },
   "file_extension": ".py",
   "mimetype": "text/x-python",
   "name": "python",
   "nbconvert_exporter": "python",
   "pygments_lexer": "ipython3",
   "version": "3.7.4"
  }
 },
 "nbformat": 4,
 "nbformat_minor": 2
}
