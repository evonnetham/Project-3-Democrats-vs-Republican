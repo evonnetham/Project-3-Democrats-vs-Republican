{
 "cells": [
  {
   "cell_type": "markdown",
   "metadata": {},
   "source": [
    "# Project 3: Web APIs & Classification\n",
    "### Part 1: Data Collection\n",
    "\n",
    "_Authors: Evonne_"
   ]
  },
  {
   "cell_type": "markdown",
   "metadata": {},
   "source": [
    "## Import Libraries"
   ]
  },
  {
   "cell_type": "code",
   "execution_count": 1,
   "metadata": {},
   "outputs": [],
   "source": [
    "import requests\n",
    "import time\n",
    "import pandas as pd"
   ]
  },
  {
   "cell_type": "markdown",
   "metadata": {},
   "source": [
    "## Data Extraction - r/democrats"
   ]
  },
  {
   "cell_type": "markdown",
   "metadata": {},
   "source": [
    "#### Initial Check"
   ]
  },
  {
   "cell_type": "code",
   "execution_count": 2,
   "metadata": {},
   "outputs": [],
   "source": [
    "democrats_url = ('https://www.reddit.com/r/democrats/.json')\n",
    "headers = {'User-agent': 'Evonne'}"
   ]
  },
  {
   "cell_type": "code",
   "execution_count": 3,
   "metadata": {
    "scrolled": true
   },
   "outputs": [
    {
     "data": {
      "text/plain": [
       "200"
      ]
     },
     "execution_count": 3,
     "metadata": {},
     "output_type": "execute_result"
    }
   ],
   "source": [
    "democrats_res = requests.get(democrats_url, headers=headers)\n",
    "democrats_res.status_code"
   ]
  },
  {
   "cell_type": "markdown",
   "metadata": {},
   "source": [
    "The 200 code indicates that we have successfully accessed the API."
   ]
  },
  {
   "cell_type": "code",
   "execution_count": 4,
   "metadata": {},
   "outputs": [
    {
     "data": {
      "text/plain": [
       "['data', 'kind']"
      ]
     },
     "execution_count": 4,
     "metadata": {},
     "output_type": "execute_result"
    }
   ],
   "source": [
    "democrats_json = democrats_res.json()\n",
    "sorted(democrats_json.keys())"
   ]
  },
  {
   "cell_type": "code",
   "execution_count": 5,
   "metadata": {},
   "outputs": [
    {
     "data": {
      "text/plain": [
       "['after', 'before', 'children', 'dist', 'modhash']"
      ]
     },
     "execution_count": 5,
     "metadata": {},
     "output_type": "execute_result"
    }
   ],
   "source": [
    "sorted(democrats_json['data'].keys())"
   ]
  },
  {
   "cell_type": "code",
   "execution_count": 6,
   "metadata": {
    "scrolled": true
   },
   "outputs": [
    {
     "data": {
      "text/plain": [
       "{'approved_at_utc': None,\n",
       " 'subreddit': 'democrats',\n",
       " 'selftext': '',\n",
       " 'author_fullname': 't2_tkz7y',\n",
       " 'saved': False,\n",
       " 'mod_reason_title': None,\n",
       " 'gilded': 0,\n",
       " 'clicked': False,\n",
       " 'title': 'Hey All! I made a documentary about Joe Biden. I hope my fellow Dems love this as much as I loved making it.',\n",
       " 'link_flair_richtext': [],\n",
       " 'subreddit_name_prefixed': 'r/democrats',\n",
       " 'hidden': False,\n",
       " 'pwls': 6,\n",
       " 'link_flair_css_class': None,\n",
       " 'downs': 0,\n",
       " 'thumbnail_height': 105,\n",
       " 'top_awarded_type': None,\n",
       " 'hide_score': False,\n",
       " 'name': 't3_hdge6q',\n",
       " 'quarantine': False,\n",
       " 'link_flair_text_color': 'dark',\n",
       " 'upvote_ratio': 0.72,\n",
       " 'author_flair_background_color': None,\n",
       " 'subreddit_type': 'public',\n",
       " 'ups': 25,\n",
       " 'total_awards_received': 1,\n",
       " 'media_embed': {'content': '&lt;iframe width=\"600\" height=\"338\" src=\"https://www.youtube.com/embed/5JRgue60YBo?feature=oembed&amp;enablejsapi=1\" frameborder=\"0\" allow=\"accelerometer; autoplay; encrypted-media; gyroscope; picture-in-picture\" allowfullscreen&gt;&lt;/iframe&gt;',\n",
       "  'width': 600,\n",
       "  'scrolling': False,\n",
       "  'height': 338},\n",
       " 'thumbnail_width': 140,\n",
       " 'author_flair_template_id': None,\n",
       " 'is_original_content': False,\n",
       " 'user_reports': [],\n",
       " 'secure_media': {'type': 'youtube.com',\n",
       "  'oembed': {'provider_url': 'https://www.youtube.com/',\n",
       "   'version': '1.0',\n",
       "   'title': \"You Don't Know Joe | How 2020 Became Joe Biden's Year\",\n",
       "   'type': 'video',\n",
       "   'thumbnail_width': 480,\n",
       "   'height': 338,\n",
       "   'width': 600,\n",
       "   'html': '&lt;iframe width=\"600\" height=\"338\" src=\"https://www.youtube.com/embed/5JRgue60YBo?feature=oembed&amp;enablejsapi=1\" frameborder=\"0\" allow=\"accelerometer; autoplay; encrypted-media; gyroscope; picture-in-picture\" allowfullscreen&gt;&lt;/iframe&gt;',\n",
       "   'author_name': 'Ben Wheeler',\n",
       "   'provider_name': 'YouTube',\n",
       "   'thumbnail_url': 'https://i.ytimg.com/vi/5JRgue60YBo/hqdefault.jpg',\n",
       "   'thumbnail_height': 360,\n",
       "   'author_url': 'https://www.youtube.com/channel/UCQmTLGOG8AlN750VD-wwZvw'}},\n",
       " 'is_reddit_media_domain': False,\n",
       " 'is_meta': False,\n",
       " 'category': None,\n",
       " 'secure_media_embed': {'content': '&lt;iframe width=\"600\" height=\"338\" src=\"https://www.youtube.com/embed/5JRgue60YBo?feature=oembed&amp;enablejsapi=1\" frameborder=\"0\" allow=\"accelerometer; autoplay; encrypted-media; gyroscope; picture-in-picture\" allowfullscreen&gt;&lt;/iframe&gt;',\n",
       "  'width': 600,\n",
       "  'scrolling': False,\n",
       "  'media_domain_url': 'https://www.redditmedia.com/mediaembed/hdge6q',\n",
       "  'height': 338},\n",
       " 'link_flair_text': None,\n",
       " 'can_mod_post': False,\n",
       " 'score': 25,\n",
       " 'approved_by': None,\n",
       " 'author_premium': False,\n",
       " 'thumbnail': 'https://b.thumbs.redditmedia.com/wqcy2fPEQRSUEi2wI3ZABpcYw1p_E9kP1P0cchW97FU.jpg',\n",
       " 'edited': False,\n",
       " 'author_flair_css_class': None,\n",
       " 'author_flair_richtext': [],\n",
       " 'gildings': {'gid_1': 1},\n",
       " 'post_hint': 'rich:video',\n",
       " 'content_categories': None,\n",
       " 'is_self': False,\n",
       " 'mod_note': None,\n",
       " 'created': 1592808913.0,\n",
       " 'link_flair_type': 'text',\n",
       " 'wls': 6,\n",
       " 'removed_by_category': None,\n",
       " 'banned_by': None,\n",
       " 'author_flair_type': 'text',\n",
       " 'domain': 'youtu.be',\n",
       " 'allow_live_comments': False,\n",
       " 'selftext_html': None,\n",
       " 'likes': None,\n",
       " 'suggested_sort': None,\n",
       " 'banned_at_utc': None,\n",
       " 'url_overridden_by_dest': 'https://youtu.be/5JRgue60YBo',\n",
       " 'view_count': None,\n",
       " 'archived': False,\n",
       " 'no_follow': False,\n",
       " 'is_crosspostable': False,\n",
       " 'pinned': False,\n",
       " 'over_18': False,\n",
       " 'preview': {'images': [{'source': {'url': 'https://external-preview.redd.it/hHLsK8BekoWsy1rqGLOYcBXRnIoJOhH175az2WD4Cqo.jpg?auto=webp&amp;s=38f724198206c59ebd34ed94a80851d902be7e2b',\n",
       "     'width': 480,\n",
       "     'height': 360},\n",
       "    'resolutions': [{'url': 'https://external-preview.redd.it/hHLsK8BekoWsy1rqGLOYcBXRnIoJOhH175az2WD4Cqo.jpg?width=108&amp;crop=smart&amp;auto=webp&amp;s=b8cbe3c006adc5d8d614a671c2aa5e025174fc64',\n",
       "      'width': 108,\n",
       "      'height': 81},\n",
       "     {'url': 'https://external-preview.redd.it/hHLsK8BekoWsy1rqGLOYcBXRnIoJOhH175az2WD4Cqo.jpg?width=216&amp;crop=smart&amp;auto=webp&amp;s=224d304cd444402ed6d27c04c530411596b564d3',\n",
       "      'width': 216,\n",
       "      'height': 162},\n",
       "     {'url': 'https://external-preview.redd.it/hHLsK8BekoWsy1rqGLOYcBXRnIoJOhH175az2WD4Cqo.jpg?width=320&amp;crop=smart&amp;auto=webp&amp;s=ff90278a529b6446140ae2f8a4b5e6385539814b',\n",
       "      'width': 320,\n",
       "      'height': 240}],\n",
       "    'variants': {},\n",
       "    'id': 'MYhLZx25pinqafnuBqfTpOUNS2rdPGEhwHFTOB-Nc_s'}],\n",
       "  'enabled': False},\n",
       " 'all_awardings': [{'giver_coin_reward': None,\n",
       "   'subreddit_id': None,\n",
       "   'is_new': False,\n",
       "   'days_of_drip_extension': 0,\n",
       "   'coin_price': 100,\n",
       "   'id': 'gid_1',\n",
       "   'penny_donate': None,\n",
       "   'award_sub_type': 'GLOBAL',\n",
       "   'coin_reward': 0,\n",
       "   'icon_url': 'https://www.redditstatic.com/gold/awards/icon/silver_512.png',\n",
       "   'days_of_premium': 0,\n",
       "   'resized_icons': [{'url': 'https://www.redditstatic.com/gold/awards/icon/silver_16.png',\n",
       "     'width': 16,\n",
       "     'height': 16},\n",
       "    {'url': 'https://www.redditstatic.com/gold/awards/icon/silver_32.png',\n",
       "     'width': 32,\n",
       "     'height': 32},\n",
       "    {'url': 'https://www.redditstatic.com/gold/awards/icon/silver_48.png',\n",
       "     'width': 48,\n",
       "     'height': 48},\n",
       "    {'url': 'https://www.redditstatic.com/gold/awards/icon/silver_64.png',\n",
       "     'width': 64,\n",
       "     'height': 64},\n",
       "    {'url': 'https://www.redditstatic.com/gold/awards/icon/silver_128.png',\n",
       "     'width': 128,\n",
       "     'height': 128}],\n",
       "   'icon_width': 512,\n",
       "   'static_icon_width': 512,\n",
       "   'start_date': None,\n",
       "   'is_enabled': True,\n",
       "   'description': \"Shows the Silver Award... and that's it.\",\n",
       "   'end_date': None,\n",
       "   'subreddit_coin_reward': 0,\n",
       "   'count': 1,\n",
       "   'static_icon_height': 512,\n",
       "   'name': 'Silver',\n",
       "   'resized_static_icons': [{'url': 'https://www.redditstatic.com/gold/awards/icon/silver_16.png',\n",
       "     'width': 16,\n",
       "     'height': 16},\n",
       "    {'url': 'https://www.redditstatic.com/gold/awards/icon/silver_32.png',\n",
       "     'width': 32,\n",
       "     'height': 32},\n",
       "    {'url': 'https://www.redditstatic.com/gold/awards/icon/silver_48.png',\n",
       "     'width': 48,\n",
       "     'height': 48},\n",
       "    {'url': 'https://www.redditstatic.com/gold/awards/icon/silver_64.png',\n",
       "     'width': 64,\n",
       "     'height': 64},\n",
       "    {'url': 'https://www.redditstatic.com/gold/awards/icon/silver_128.png',\n",
       "     'width': 128,\n",
       "     'height': 128}],\n",
       "   'icon_format': None,\n",
       "   'icon_height': 512,\n",
       "   'penny_price': None,\n",
       "   'award_type': 'global',\n",
       "   'static_icon_url': 'https://www.redditstatic.com/gold/awards/icon/silver_512.png'}],\n",
       " 'awarders': [],\n",
       " 'media_only': False,\n",
       " 'can_gild': False,\n",
       " 'spoiler': False,\n",
       " 'locked': False,\n",
       " 'author_flair_text': None,\n",
       " 'treatment_tags': [],\n",
       " 'visited': False,\n",
       " 'removed_by': None,\n",
       " 'num_reports': None,\n",
       " 'distinguished': None,\n",
       " 'subreddit_id': 't5_2qn70',\n",
       " 'mod_reason_by': None,\n",
       " 'removal_reason': None,\n",
       " 'link_flair_background_color': '',\n",
       " 'id': 'hdge6q',\n",
       " 'is_robot_indexable': True,\n",
       " 'report_reasons': None,\n",
       " 'author': 'D1Wheeler',\n",
       " 'discussion_type': None,\n",
       " 'num_comments': 26,\n",
       " 'send_replies': True,\n",
       " 'whitelist_status': 'all_ads',\n",
       " 'contest_mode': False,\n",
       " 'mod_reports': [],\n",
       " 'author_patreon_flair': False,\n",
       " 'author_flair_text_color': None,\n",
       " 'permalink': '/r/democrats/comments/hdge6q/hey_all_i_made_a_documentary_about_joe_biden_i/',\n",
       " 'parent_whitelist_status': 'all_ads',\n",
       " 'stickied': True,\n",
       " 'url': 'https://youtu.be/5JRgue60YBo',\n",
       " 'subreddit_subscribers': 133634,\n",
       " 'created_utc': 1592780113.0,\n",
       " 'num_crossposts': 0,\n",
       " 'media': {'type': 'youtube.com',\n",
       "  'oembed': {'provider_url': 'https://www.youtube.com/',\n",
       "   'version': '1.0',\n",
       "   'title': \"You Don't Know Joe | How 2020 Became Joe Biden's Year\",\n",
       "   'type': 'video',\n",
       "   'thumbnail_width': 480,\n",
       "   'height': 338,\n",
       "   'width': 600,\n",
       "   'html': '&lt;iframe width=\"600\" height=\"338\" src=\"https://www.youtube.com/embed/5JRgue60YBo?feature=oembed&amp;enablejsapi=1\" frameborder=\"0\" allow=\"accelerometer; autoplay; encrypted-media; gyroscope; picture-in-picture\" allowfullscreen&gt;&lt;/iframe&gt;',\n",
       "   'author_name': 'Ben Wheeler',\n",
       "   'provider_name': 'YouTube',\n",
       "   'thumbnail_url': 'https://i.ytimg.com/vi/5JRgue60YBo/hqdefault.jpg',\n",
       "   'thumbnail_height': 360,\n",
       "   'author_url': 'https://www.youtube.com/channel/UCQmTLGOG8AlN750VD-wwZvw'}},\n",
       " 'is_video': False}"
      ]
     },
     "execution_count": 6,
     "metadata": {},
     "output_type": "execute_result"
    }
   ],
   "source": [
    "democrats_json['data']['children'][0]['data']"
   ]
  },
  {
   "cell_type": "markdown",
   "metadata": {},
   "source": [
    "These are the different data features available.\n",
    "Interested features to be extracted to be analyzed:\n",
    "- id: comment unique id\n",
    "- title: title of the post\n",
    "- subreddit: subreddit that the comment was in. this will be the target variable.\n",
    "- score: how many upvotes the comment has\n",
    "- created_utc: When was post created (in unix timestamp format 1592572142)"
   ]
  },
  {
   "cell_type": "markdown",
   "metadata": {},
   "source": [
    "#### Set up the code to scrape 1,000 posts from r/democrats at a time\n",
    "Reddit only gives 25 posts per request, with a cap 1,000 posts for each subreddit. Hence a loop is set up of a range of 40 to get 1000 post. Furthermore, to prevent our script from overwhelming the API server (and potentially getting blocked), delay between requests of 2 seconds was introduced with time.sleep."
   ]
  },
  {
   "cell_type": "code",
   "execution_count": 7,
   "metadata": {
    "scrolled": true
   },
   "outputs": [
    {
     "name": "stdout",
     "output_type": "stream",
     "text": [
      "(0)Successful\n",
      "(1)Successful\n",
      "(2)Successful\n",
      "(3)Successful\n",
      "(4)Successful\n",
      "(5)Successful\n",
      "(6)Successful\n",
      "(7)Successful\n",
      "(8)Successful\n",
      "(9)Successful\n",
      "(10)Successful\n",
      "(11)Successful\n",
      "(12)Successful\n",
      "(13)Successful\n",
      "(14)Successful\n",
      "(15)Successful\n",
      "(16)Successful\n",
      "(17)Successful\n",
      "(18)Successful\n",
      "(19)Successful\n",
      "(20)Successful\n",
      "(21)Successful\n",
      "(22)Successful\n",
      "(23)Successful\n",
      "(24)Successful\n",
      "(25)Successful\n",
      "(26)Successful\n",
      "(27)Successful\n",
      "(28)Successful\n",
      "(29)Successful\n",
      "(30)Successful\n",
      "(31)Successful\n",
      "(32)Successful\n",
      "(33)Successful\n",
      "(34)Successful\n",
      "(35)Successful\n",
      "(36)Successful\n",
      "(37)Successful\n",
      "(38)Successful\n",
      "(39)Successful\n"
     ]
    }
   ],
   "source": [
    "democrats_post = []\n",
    "after = None\n",
    "for i in range(40):\n",
    "    print(\"(\" + str(i) + \")\" 'Successful')\n",
    "    if after == None: \n",
    "        params = {}\n",
    "    else:\n",
    "        params = {'after': after}\n",
    "    democrats_url = ('https://www.reddit.com/r/democrats/.json')\n",
    "    democrats_res = requests.get(democrats_url, params=params, headers=headers)\n",
    "    if democrats_res.status_code == 200:\n",
    "        democrats_json = democrats_res.json()\n",
    "        democrats_post.extend(democrats_json['data']['children'])\n",
    "        after = democrats_json['data']['after']\n",
    "    else:\n",
    "        print(democrats_res.status_code)\n",
    "        break\n",
    "    time.sleep(2)"
   ]
  },
  {
   "cell_type": "markdown",
   "metadata": {},
   "source": [
    "## Data Extraction - r/Republicans"
   ]
  },
  {
   "cell_type": "markdown",
   "metadata": {},
   "source": [
    "#### Initial Check"
   ]
  },
  {
   "cell_type": "code",
   "execution_count": 8,
   "metadata": {
    "scrolled": true
   },
   "outputs": [
    {
     "data": {
      "text/plain": [
       "200"
      ]
     },
     "execution_count": 8,
     "metadata": {},
     "output_type": "execute_result"
    }
   ],
   "source": [
    "republican_url = ('https://www.reddit.com/r/Republican/.json')\n",
    "republican_res = requests.get(republican_url, headers=headers)\n",
    "republican_res.status_code"
   ]
  },
  {
   "cell_type": "markdown",
   "metadata": {},
   "source": [
    "The 200 code indicates that we have successfully accessed the API."
   ]
  },
  {
   "cell_type": "code",
   "execution_count": 9,
   "metadata": {},
   "outputs": [
    {
     "data": {
      "text/plain": [
       "['data', 'kind']"
      ]
     },
     "execution_count": 9,
     "metadata": {},
     "output_type": "execute_result"
    }
   ],
   "source": [
    "republican_json = republican_res.json()\n",
    "sorted(republican_json.keys())"
   ]
  },
  {
   "cell_type": "code",
   "execution_count": 10,
   "metadata": {
    "scrolled": true
   },
   "outputs": [
    {
     "data": {
      "text/plain": [
       "{'kind': 't3',\n",
       " 'data': {'approved_at_utc': None,\n",
       "  'subreddit': 'Republican',\n",
       "  'selftext': '',\n",
       "  'author_fullname': 't2_1s4usext',\n",
       "  'saved': False,\n",
       "  'mod_reason_title': None,\n",
       "  'gilded': 0,\n",
       "  'clicked': False,\n",
       "  'title': 'Just putting this out there.',\n",
       "  'link_flair_richtext': [],\n",
       "  'subreddit_name_prefixed': 'r/Republican',\n",
       "  'hidden': False,\n",
       "  'pwls': 6,\n",
       "  'link_flair_css_class': None,\n",
       "  'downs': 0,\n",
       "  'thumbnail_height': 140,\n",
       "  'top_awarded_type': None,\n",
       "  'hide_score': False,\n",
       "  'name': 't3_hf616r',\n",
       "  'quarantine': False,\n",
       "  'link_flair_text_color': 'dark',\n",
       "  'upvote_ratio': 0.73,\n",
       "  'author_flair_background_color': None,\n",
       "  'subreddit_type': 'public',\n",
       "  'ups': 2377,\n",
       "  'total_awards_received': 0,\n",
       "  'media_embed': {},\n",
       "  'thumbnail_width': 140,\n",
       "  'author_flair_template_id': None,\n",
       "  'is_original_content': False,\n",
       "  'user_reports': [],\n",
       "  'secure_media': None,\n",
       "  'is_reddit_media_domain': True,\n",
       "  'is_meta': False,\n",
       "  'category': None,\n",
       "  'secure_media_embed': {},\n",
       "  'link_flair_text': None,\n",
       "  'can_mod_post': False,\n",
       "  'score': 2377,\n",
       "  'approved_by': None,\n",
       "  'author_premium': False,\n",
       "  'thumbnail': 'https://b.thumbs.redditmedia.com/L7h7nzx3A79W-vhzwTeN6WpawEa6TmsNjFXNCrAq2NY.jpg',\n",
       "  'edited': False,\n",
       "  'author_flair_css_class': None,\n",
       "  'author_flair_richtext': [],\n",
       "  'gildings': {},\n",
       "  'post_hint': 'image',\n",
       "  'content_categories': None,\n",
       "  'is_self': False,\n",
       "  'mod_note': None,\n",
       "  'created': 1593050870.0,\n",
       "  'link_flair_type': 'text',\n",
       "  'wls': 6,\n",
       "  'removed_by_category': None,\n",
       "  'banned_by': None,\n",
       "  'author_flair_type': 'text',\n",
       "  'domain': 'i.redd.it',\n",
       "  'allow_live_comments': True,\n",
       "  'selftext_html': None,\n",
       "  'likes': None,\n",
       "  'suggested_sort': None,\n",
       "  'banned_at_utc': None,\n",
       "  'url_overridden_by_dest': 'https://i.redd.it/ztk2kstyew651.jpg',\n",
       "  'view_count': None,\n",
       "  'archived': False,\n",
       "  'no_follow': False,\n",
       "  'is_crosspostable': False,\n",
       "  'pinned': False,\n",
       "  'over_18': False,\n",
       "  'preview': {'images': [{'source': {'url': 'https://preview.redd.it/ztk2kstyew651.jpg?auto=webp&amp;s=8f0b22a362a9e4d1adbb46b4607fd64737aee807',\n",
       "      'width': 1125,\n",
       "      'height': 1787},\n",
       "     'resolutions': [{'url': 'https://preview.redd.it/ztk2kstyew651.jpg?width=108&amp;crop=smart&amp;auto=webp&amp;s=481850507c683984f30d2dd6af6272f955753eef',\n",
       "       'width': 108,\n",
       "       'height': 171},\n",
       "      {'url': 'https://preview.redd.it/ztk2kstyew651.jpg?width=216&amp;crop=smart&amp;auto=webp&amp;s=4281875d18147da01cd4fd556eaf6e108175f359',\n",
       "       'width': 216,\n",
       "       'height': 343},\n",
       "      {'url': 'https://preview.redd.it/ztk2kstyew651.jpg?width=320&amp;crop=smart&amp;auto=webp&amp;s=746197971e4ba7a00ce26d32f3d0f8d2276ded84',\n",
       "       'width': 320,\n",
       "       'height': 508},\n",
       "      {'url': 'https://preview.redd.it/ztk2kstyew651.jpg?width=640&amp;crop=smart&amp;auto=webp&amp;s=f532ddff252204e026cf37096e05036f3e9f2d27',\n",
       "       'width': 640,\n",
       "       'height': 1016},\n",
       "      {'url': 'https://preview.redd.it/ztk2kstyew651.jpg?width=960&amp;crop=smart&amp;auto=webp&amp;s=902f8a2d41a6bece4ad6a9d0277a6e5196cfa957',\n",
       "       'width': 960,\n",
       "       'height': 1524},\n",
       "      {'url': 'https://preview.redd.it/ztk2kstyew651.jpg?width=1080&amp;crop=smart&amp;auto=webp&amp;s=5ecde8de4f11f676cc973f04936598c5cdefa153',\n",
       "       'width': 1080,\n",
       "       'height': 1715}],\n",
       "     'variants': {},\n",
       "     'id': '5b65PG0UZi-jd2VuZ11QnxtgUi4vbFH__Pnsnj7zVJk'}],\n",
       "   'enabled': True},\n",
       "  'all_awardings': [],\n",
       "  'awarders': [],\n",
       "  'media_only': False,\n",
       "  'can_gild': False,\n",
       "  'spoiler': False,\n",
       "  'locked': False,\n",
       "  'author_flair_text': None,\n",
       "  'treatment_tags': [],\n",
       "  'visited': False,\n",
       "  'removed_by': None,\n",
       "  'num_reports': None,\n",
       "  'distinguished': None,\n",
       "  'subreddit_id': 't5_2qndt',\n",
       "  'mod_reason_by': None,\n",
       "  'removal_reason': None,\n",
       "  'link_flair_background_color': '',\n",
       "  'id': 'hf616r',\n",
       "  'is_robot_indexable': True,\n",
       "  'report_reasons': None,\n",
       "  'author': 'toothfinder',\n",
       "  'discussion_type': None,\n",
       "  'num_comments': 240,\n",
       "  'send_replies': True,\n",
       "  'whitelist_status': 'all_ads',\n",
       "  'contest_mode': False,\n",
       "  'mod_reports': [],\n",
       "  'author_patreon_flair': False,\n",
       "  'author_flair_text_color': None,\n",
       "  'permalink': '/r/Republican/comments/hf616r/just_putting_this_out_there/',\n",
       "  'parent_whitelist_status': 'all_ads',\n",
       "  'stickied': False,\n",
       "  'url': 'https://i.redd.it/ztk2kstyew651.jpg',\n",
       "  'subreddit_subscribers': 121305,\n",
       "  'created_utc': 1593022070.0,\n",
       "  'num_crossposts': 3,\n",
       "  'media': None,\n",
       "  'is_video': False}}"
      ]
     },
     "execution_count": 10,
     "metadata": {},
     "output_type": "execute_result"
    }
   ],
   "source": [
    "republican_json['data']['children'][0]"
   ]
  },
  {
   "cell_type": "markdown",
   "metadata": {},
   "source": [
    "#### Set up the code to scrape 1,000 posts from r/Republican at a time"
   ]
  },
  {
   "cell_type": "code",
   "execution_count": 11,
   "metadata": {
    "scrolled": true
   },
   "outputs": [
    {
     "name": "stdout",
     "output_type": "stream",
     "text": [
      "(0)Successful\n",
      "(1)Successful\n",
      "(2)Successful\n",
      "(3)Successful\n",
      "(4)Successful\n",
      "(5)Successful\n",
      "(6)Successful\n",
      "(7)Successful\n",
      "(8)Successful\n",
      "(9)Successful\n",
      "(10)Successful\n",
      "(11)Successful\n",
      "(12)Successful\n",
      "(13)Successful\n",
      "(14)Successful\n",
      "(15)Successful\n",
      "(16)Successful\n",
      "(17)Successful\n",
      "(18)Successful\n",
      "(19)Successful\n",
      "(20)Successful\n",
      "(21)Successful\n",
      "(22)Successful\n",
      "(23)Successful\n",
      "(24)Successful\n",
      "(25)Successful\n",
      "(26)Successful\n",
      "(27)Successful\n",
      "(28)Successful\n",
      "(29)Successful\n",
      "(30)Successful\n",
      "(31)Successful\n",
      "(32)Successful\n",
      "(33)Successful\n",
      "(34)Successful\n",
      "(35)Successful\n",
      "(36)Successful\n",
      "(37)Successful\n",
      "(38)Successful\n",
      "(39)Successful\n"
     ]
    }
   ],
   "source": [
    "# Set up the code to scrape 1,000 posts from r/Republican at a time:\n",
    "\n",
    "republican_post = []\n",
    "after = None\n",
    "for i in range(40):\n",
    "    print(\"(\" + str(i) + \")\" 'Successful')\n",
    "    if after == None: \n",
    "        params = {}\n",
    "    else:\n",
    "        params = {'after': after}\n",
    "    republican_url = ('https://www.reddit.com/r/Republican/.json')\n",
    "    republican_res = requests.get(republican_url, params=params, headers=headers)\n",
    "    if republican_res.status_code == 200:\n",
    "        republican_json = republican_res.json()\n",
    "        republican_post.extend(republican_json['data']['children'])\n",
    "        after = republican_json['data']['after']\n",
    "    else:\n",
    "        print('Status error', republican_res.status_code)\n",
    "        break\n",
    "    time.sleep(2)"
   ]
  },
  {
   "cell_type": "markdown",
   "metadata": {},
   "source": [
    "## Convert Webscrapped Data into a DataFrame"
   ]
  },
  {
   "cell_type": "markdown",
   "metadata": {},
   "source": [
    "#### Democrats DataFrame"
   ]
  },
  {
   "cell_type": "code",
   "execution_count": 12,
   "metadata": {
    "scrolled": false
   },
   "outputs": [
    {
     "data": {
      "text/html": [
       "<div>\n",
       "<style scoped>\n",
       "    .dataframe tbody tr th:only-of-type {\n",
       "        vertical-align: middle;\n",
       "    }\n",
       "\n",
       "    .dataframe tbody tr th {\n",
       "        vertical-align: top;\n",
       "    }\n",
       "\n",
       "    .dataframe thead th {\n",
       "        text-align: right;\n",
       "    }\n",
       "</style>\n",
       "<table border=\"1\" class=\"dataframe\">\n",
       "  <thead>\n",
       "    <tr style=\"text-align: right;\">\n",
       "      <th></th>\n",
       "      <th>id</th>\n",
       "      <th>title</th>\n",
       "      <th>comment</th>\n",
       "      <th>date_created</th>\n",
       "      <th>score</th>\n",
       "      <th>subreddit</th>\n",
       "    </tr>\n",
       "  </thead>\n",
       "  <tbody>\n",
       "    <tr>\n",
       "      <th>0</th>\n",
       "      <td>hdge6q</td>\n",
       "      <td>Hey All! I made a documentary about Joe Biden....</td>\n",
       "      <td></td>\n",
       "      <td>1.592780e+09</td>\n",
       "      <td>29</td>\n",
       "      <td>democrats</td>\n",
       "    </tr>\n",
       "    <tr>\n",
       "      <th>1</th>\n",
       "      <td>hff6bt</td>\n",
       "      <td>It’s Time for a Blue Wave to Restore America.</td>\n",
       "      <td></td>\n",
       "      <td>1.593055e+09</td>\n",
       "      <td>629</td>\n",
       "      <td>democrats</td>\n",
       "    </tr>\n",
       "    <tr>\n",
       "      <th>2</th>\n",
       "      <td>hf7pni</td>\n",
       "      <td>In Scathing Letter, More Than 80-Percent of Fa...</td>\n",
       "      <td></td>\n",
       "      <td>1.593027e+09</td>\n",
       "      <td>1336</td>\n",
       "      <td>democrats</td>\n",
       "    </tr>\n",
       "    <tr>\n",
       "      <th>3</th>\n",
       "      <td>hfgpv1</td>\n",
       "      <td>Mark Cuban endorses Biden on Hannity: He 'actu...</td>\n",
       "      <td></td>\n",
       "      <td>1.593064e+09</td>\n",
       "      <td>70</td>\n",
       "      <td>democrats</td>\n",
       "    </tr>\n",
       "    <tr>\n",
       "      <th>4</th>\n",
       "      <td>hf6wes</td>\n",
       "      <td>Judiciary Democrat calls for House to pursue i...</td>\n",
       "      <td></td>\n",
       "      <td>1.593025e+09</td>\n",
       "      <td>201</td>\n",
       "      <td>democrats</td>\n",
       "    </tr>\n",
       "  </tbody>\n",
       "</table>\n",
       "</div>"
      ],
      "text/plain": [
       "       id                                              title comment  \\\n",
       "0  hdge6q  Hey All! I made a documentary about Joe Biden....           \n",
       "1  hff6bt      It’s Time for a Blue Wave to Restore America.           \n",
       "2  hf7pni  In Scathing Letter, More Than 80-Percent of Fa...           \n",
       "3  hfgpv1  Mark Cuban endorses Biden on Hannity: He 'actu...           \n",
       "4  hf6wes  Judiciary Democrat calls for House to pursue i...           \n",
       "\n",
       "   date_created  score  subreddit  \n",
       "0  1.592780e+09     29  democrats  \n",
       "1  1.593055e+09    629  democrats  \n",
       "2  1.593027e+09   1336  democrats  \n",
       "3  1.593064e+09     70  democrats  \n",
       "4  1.593025e+09    201  democrats  "
      ]
     },
     "execution_count": 12,
     "metadata": {},
     "output_type": "execute_result"
    }
   ],
   "source": [
    "democrats_id = []\n",
    "democrats_title = []\n",
    "democrats_comment = []\n",
    "democrats_time = []\n",
    "democrats_score = []\n",
    "democrats_subreddits=[]\n",
    "\n",
    "for post in range(len(democrats_post)):\n",
    "    democrats_id.append(democrats_post[post]['data']['id'])\n",
    "    democrats_title.append(democrats_post[post]['data']['title'])\n",
    "    democrats_comment.append(democrats_post[post]['data']['selftext'])\n",
    "    democrats_time.append(democrats_post[post]['data']['created_utc'])\n",
    "    democrats_score.append(democrats_post[post]['data']['score'])\n",
    "    democrats_subreddits.append(democrats_post[post]['data']['subreddit'])\n",
    "\n",
    "\n",
    "democrats_dict = {'id': democrats_id,\n",
    "                  'title': democrats_title,\n",
    "                  'comment': democrats_comment,\n",
    "                  'date_created': democrats_time,\n",
    "                  'score': democrats_score,\n",
    "                  'subreddit': democrats_subreddits}\n",
    "\n",
    "\n",
    "democrats_df = pd.DataFrame(democrats_dict)\n",
    "democrats_df.head()"
   ]
  },
  {
   "cell_type": "code",
   "execution_count": 13,
   "metadata": {},
   "outputs": [
    {
     "name": "stdout",
     "output_type": "stream",
     "text": [
      "Total number of posts:  990\n",
      "Unique number of posts:  979\n"
     ]
    }
   ],
   "source": [
    "print(\"Total number of posts: \", len(democrats_df['title']))\n",
    "print(\"Unique number of posts: \", len(democrats_df['title'].unique()))"
   ]
  },
  {
   "cell_type": "markdown",
   "metadata": {},
   "source": [
    "#### Republican DataFrame"
   ]
  },
  {
   "cell_type": "code",
   "execution_count": 14,
   "metadata": {
    "scrolled": false
   },
   "outputs": [
    {
     "data": {
      "text/html": [
       "<div>\n",
       "<style scoped>\n",
       "    .dataframe tbody tr th:only-of-type {\n",
       "        vertical-align: middle;\n",
       "    }\n",
       "\n",
       "    .dataframe tbody tr th {\n",
       "        vertical-align: top;\n",
       "    }\n",
       "\n",
       "    .dataframe thead th {\n",
       "        text-align: right;\n",
       "    }\n",
       "</style>\n",
       "<table border=\"1\" class=\"dataframe\">\n",
       "  <thead>\n",
       "    <tr style=\"text-align: right;\">\n",
       "      <th></th>\n",
       "      <th>id</th>\n",
       "      <th>title</th>\n",
       "      <th>comment</th>\n",
       "      <th>date_created</th>\n",
       "      <th>score</th>\n",
       "      <th>subreddit</th>\n",
       "    </tr>\n",
       "  </thead>\n",
       "  <tbody>\n",
       "    <tr>\n",
       "      <th>0</th>\n",
       "      <td>hf616r</td>\n",
       "      <td>Just putting this out there.</td>\n",
       "      <td></td>\n",
       "      <td>1.593022e+09</td>\n",
       "      <td>2381</td>\n",
       "      <td>Republican</td>\n",
       "    </tr>\n",
       "    <tr>\n",
       "      <th>1</th>\n",
       "      <td>hflqaf</td>\n",
       "      <td>New evidence shows it is time to charge Joe Bi...</td>\n",
       "      <td></td>\n",
       "      <td>1.593090e+09</td>\n",
       "      <td>15</td>\n",
       "      <td>Republican</td>\n",
       "    </tr>\n",
       "    <tr>\n",
       "      <th>2</th>\n",
       "      <td>hf68bl</td>\n",
       "      <td>Vroom vroom</td>\n",
       "      <td></td>\n",
       "      <td>1.593023e+09</td>\n",
       "      <td>223</td>\n",
       "      <td>Republican</td>\n",
       "    </tr>\n",
       "    <tr>\n",
       "      <th>3</th>\n",
       "      <td>hezlce</td>\n",
       "      <td>Pelosi says Republicans 'trying to get away wi...</td>\n",
       "      <td></td>\n",
       "      <td>1.592999e+09</td>\n",
       "      <td>659</td>\n",
       "      <td>Republican</td>\n",
       "    </tr>\n",
       "    <tr>\n",
       "      <th>4</th>\n",
       "      <td>hfkbyi</td>\n",
       "      <td>Al Gore, UN Secretary-General, others now dema...</td>\n",
       "      <td></td>\n",
       "      <td>1.593084e+09</td>\n",
       "      <td>4</td>\n",
       "      <td>Republican</td>\n",
       "    </tr>\n",
       "  </tbody>\n",
       "</table>\n",
       "</div>"
      ],
      "text/plain": [
       "       id                                              title comment  \\\n",
       "0  hf616r                       Just putting this out there.           \n",
       "1  hflqaf  New evidence shows it is time to charge Joe Bi...           \n",
       "2  hf68bl                                        Vroom vroom           \n",
       "3  hezlce  Pelosi says Republicans 'trying to get away wi...           \n",
       "4  hfkbyi  Al Gore, UN Secretary-General, others now dema...           \n",
       "\n",
       "   date_created  score   subreddit  \n",
       "0  1.593022e+09   2381  Republican  \n",
       "1  1.593090e+09     15  Republican  \n",
       "2  1.593023e+09    223  Republican  \n",
       "3  1.592999e+09    659  Republican  \n",
       "4  1.593084e+09      4  Republican  "
      ]
     },
     "execution_count": 14,
     "metadata": {},
     "output_type": "execute_result"
    }
   ],
   "source": [
    "republican_id = []\n",
    "republican_title = []\n",
    "republican_comment = []\n",
    "republican_time = []\n",
    "republican_score = []\n",
    "republican_subreddits=[]\n",
    "\n",
    "for post in range(len(republican_post)):\n",
    "    republican_id.append(republican_post[post]['data']['id'])\n",
    "    republican_title.append(republican_post[post]['data']['title'])\n",
    "    republican_comment.append(republican_post[post]['data']['selftext'])\n",
    "    republican_time.append(republican_post[post]['data']['created_utc'])\n",
    "    republican_score.append(republican_post[post]['data']['score'])\n",
    "    republican_subreddits.append(republican_post[post]['data']['subreddit'])\n",
    "\n",
    "\n",
    "republican_dict = {'id': republican_id,\n",
    "                  'title': republican_title,\n",
    "                   'comment': republican_comment,\n",
    "                  'date_created': republican_time,\n",
    "                  'score': republican_score,\n",
    "                  'subreddit': republican_subreddits}\n",
    "\n",
    "\n",
    "republican_df = pd.DataFrame(republican_dict)\n",
    "republican_df.head()"
   ]
  },
  {
   "cell_type": "code",
   "execution_count": 15,
   "metadata": {},
   "outputs": [
    {
     "name": "stdout",
     "output_type": "stream",
     "text": [
      "Total number of posts:  988\n",
      "Unique number of posts:  805\n"
     ]
    }
   ],
   "source": [
    "print(\"Total number of posts: \", len(republican_df['title']))\n",
    "print(\"Unique number of posts: \", len(republican_df['title'].unique()))"
   ]
  },
  {
   "cell_type": "markdown",
   "metadata": {},
   "source": [
    "#### Save DataFrame as csv file"
   ]
  },
  {
   "cell_type": "code",
   "execution_count": 16,
   "metadata": {},
   "outputs": [],
   "source": [
    "democrats_df.to_csv('./datasets/df_a.csv', index = False)\n",
    "republican_df.to_csv('./datasets/df_b.csv', index = False)"
   ]
  },
  {
   "cell_type": "markdown",
   "metadata": {},
   "source": [
    "----> Proceed to the next notebook for [Data cleaning and EDA](./02_Data_Cleaning_and_EDA.ipynb)"
   ]
  }
 ],
 "metadata": {
  "kernelspec": {
   "display_name": "Python 3",
   "language": "python",
   "name": "python3"
  },
  "language_info": {
   "codemirror_mode": {
    "name": "ipython",
    "version": 3
   },
   "file_extension": ".py",
   "mimetype": "text/x-python",
   "name": "python",
   "nbconvert_exporter": "python",
   "pygments_lexer": "ipython3",
   "version": "3.7.4"
  }
 },
 "nbformat": 4,
 "nbformat_minor": 2
}
